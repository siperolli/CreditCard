{
  "nbformat": 4,
  "nbformat_minor": 0,
  "metadata": {
    "colab": {
      "name": "1_TodosAlgoritmos_Balanceamento_antes.ipynb",
      "provenance": [],
      "collapsed_sections": []
    },
    "kernelspec": {
      "display_name": "Python 3",
      "name": "python3"
    },
    "language_info": {
      "name": "python"
    }
  },
  "cells": [
    {
      "cell_type": "markdown",
      "metadata": {
        "id": "6ru5ApcteEcS"
      },
      "source": [
        "#<font color='blue'>**Projeto Final: Bootcamp Data Science, Data Analytics & Machine Learning** \n",
        "###**Como Detectar Operações Fraudulentas Baseadas no Histórico de Transações?**"
      ]
    },
    {
      "cell_type": "markdown",
      "metadata": {
        "id": "PzqkPGW-eIwx"
      },
      "source": [
        "Esse notebook é o primeiro notebook:\n",
        "\n",
        "-Balanceamento dos dados\n",
        "\n",
        "-Separação dos dados em treino e teste\n",
        "\n",
        "-Testamos 7 algoritmos de machine learning"
      ]
    },
    {
      "cell_type": "markdown",
      "metadata": {
        "id": "7sMUXmUvf2dO"
      },
      "source": [
        "## <font color='blue'>**Sumário**\n",
        "* [Obtendo os dados](#data)\n",
        "* [Conhecendo os dados](#limpeza)\n",
        "* [Visualização dos dados](#visualizacao)\n",
        "* [Preparando os dados para serem apresentados à Machine Learning](#balanceamento)\n",
        "* [Algoritmo - Redes Neurais](#rede)\n",
        "* [Algoritmo - Random Forest](#rf)\n",
        "* [Algoritmo - XGBoost](#xgb)\n",
        "* [Algoritmo - SVM](#svm)\n",
        "* [Algoritmo - Árvore de Decisão](#tree)\n",
        "* [Algoritmo - Regressão Logísitca](#rl)\n",
        "* [Algoritmo - Algoritmo - Análise Discriminante Quadrática](#quadrado)"
      ]
    },
    {
      "cell_type": "code",
      "metadata": {
        "id": "cHGCFUDRFxww"
      },
      "source": [
        "import pandas as pd\n",
        "import numpy as np\n",
        "import seaborn as sns\n",
        "import matplotlib.pyplot as plt\n",
        "\n",
        "from sklearn.model_selection import GridSearchCV\n",
        "from sklearn.neural_network import MLPClassifier\n",
        "from sklearn.decomposition import PCA\n",
        "from sklearn import metrics\n",
        "from sklearn.preprocessing import StandardScaler\n",
        "from sklearn.model_selection import train_test_split\n",
        "from sklearn.linear_model import LogisticRegression\n",
        "from sklearn.ensemble import RandomForestClassifier\n",
        "from xgboost import XGBClassifier\n",
        "from sklearn.svm import SVC\n",
        "from sklearn.tree import DecisionTreeClassifier, plot_tree\n",
        "from sklearn.metrics import precision_score\n",
        "from sklearn.metrics import recall_score\n",
        "from sklearn.metrics import classification_report\n",
        "from sklearn.metrics import precision_recall_curve\n",
        "from sklearn.metrics import roc_auc_score\n",
        "from sklearn.metrics import confusion_matrix\n",
        "from sklearn.metrics import plot_confusion_matrix\n",
        "from sklearn.metrics import ConfusionMatrixDisplay\n",
        "from sklearn.metrics import plot_roc_curve\n",
        "from sklearn.metrics import auc\n",
        "import itertools\n",
        "\n",
        "import warnings\n",
        "warnings.filterwarnings('ignore')"
      ],
      "execution_count": null,
      "outputs": []
    },
    {
      "cell_type": "markdown",
      "metadata": {
        "id": "QR9Bij_sgrpd"
      },
      "source": [
        "# Obtendo os dados <a name=\"data\"></a>"
      ]
    },
    {
      "cell_type": "code",
      "metadata": {
        "id": "XeKaH9M5F51b"
      },
      "source": [
        "file_csv = '/content/creditcard.csv'"
      ],
      "execution_count": null,
      "outputs": []
    },
    {
      "cell_type": "code",
      "metadata": {
        "id": "29QcO0l4F8v9"
      },
      "source": [
        "df = pd.read_csv(file_csv)"
      ],
      "execution_count": null,
      "outputs": []
    },
    {
      "cell_type": "markdown",
      "metadata": {
        "id": "1CL0JK76gxDF"
      },
      "source": [
        "# Conhecendo os dados <a name=\"limpeza\"></a>"
      ]
    },
    {
      "cell_type": "code",
      "metadata": {
        "colab": {
          "base_uri": "https://localhost:8080/"
        },
        "id": "E3Wzeum7HTZW",
        "outputId": "75bf4542-741c-4aa9-f0f7-c3a078475180"
      },
      "source": [
        "df.shape"
      ],
      "execution_count": null,
      "outputs": [
        {
          "output_type": "execute_result",
          "data": {
            "text/plain": [
              "(284807, 31)"
            ]
          },
          "metadata": {
            "tags": []
          },
          "execution_count": 4
        }
      ]
    },
    {
      "cell_type": "code",
      "metadata": {
        "colab": {
          "base_uri": "https://localhost:8080/"
        },
        "id": "q3X4_50OIJMc",
        "outputId": "ef70a3a2-65b6-45bc-b636-aaf15c590839"
      },
      "source": [
        "df.info()"
      ],
      "execution_count": null,
      "outputs": [
        {
          "output_type": "stream",
          "text": [
            "<class 'pandas.core.frame.DataFrame'>\n",
            "RangeIndex: 284807 entries, 0 to 284806\n",
            "Data columns (total 31 columns):\n",
            " #   Column  Non-Null Count   Dtype  \n",
            "---  ------  --------------   -----  \n",
            " 0   Time    284807 non-null  float64\n",
            " 1   V1      284807 non-null  float64\n",
            " 2   V2      284807 non-null  float64\n",
            " 3   V3      284807 non-null  float64\n",
            " 4   V4      284807 non-null  float64\n",
            " 5   V5      284807 non-null  float64\n",
            " 6   V6      284807 non-null  float64\n",
            " 7   V7      284807 non-null  float64\n",
            " 8   V8      284807 non-null  float64\n",
            " 9   V9      284807 non-null  float64\n",
            " 10  V10     284807 non-null  float64\n",
            " 11  V11     284807 non-null  float64\n",
            " 12  V12     284807 non-null  float64\n",
            " 13  V13     284807 non-null  float64\n",
            " 14  V14     284807 non-null  float64\n",
            " 15  V15     284807 non-null  float64\n",
            " 16  V16     284807 non-null  float64\n",
            " 17  V17     284807 non-null  float64\n",
            " 18  V18     284807 non-null  float64\n",
            " 19  V19     284807 non-null  float64\n",
            " 20  V20     284807 non-null  float64\n",
            " 21  V21     284807 non-null  float64\n",
            " 22  V22     284807 non-null  float64\n",
            " 23  V23     284807 non-null  float64\n",
            " 24  V24     284807 non-null  float64\n",
            " 25  V25     284807 non-null  float64\n",
            " 26  V26     284807 non-null  float64\n",
            " 27  V27     284807 non-null  float64\n",
            " 28  V28     284807 non-null  float64\n",
            " 29  Amount  284807 non-null  float64\n",
            " 30  Class   284807 non-null  int64  \n",
            "dtypes: float64(30), int64(1)\n",
            "memory usage: 67.4 MB\n"
          ],
          "name": "stdout"
        }
      ]
    },
    {
      "cell_type": "code",
      "metadata": {
        "colab": {
          "base_uri": "https://localhost:8080/",
          "height": 216
        },
        "id": "mNhKZ44aHerr",
        "outputId": "efea7dda-33fd-44bd-da33-d3b66439d416"
      },
      "source": [
        "df.head()"
      ],
      "execution_count": null,
      "outputs": [
        {
          "output_type": "execute_result",
          "data": {
            "text/html": [
              "<div>\n",
              "<style scoped>\n",
              "    .dataframe tbody tr th:only-of-type {\n",
              "        vertical-align: middle;\n",
              "    }\n",
              "\n",
              "    .dataframe tbody tr th {\n",
              "        vertical-align: top;\n",
              "    }\n",
              "\n",
              "    .dataframe thead th {\n",
              "        text-align: right;\n",
              "    }\n",
              "</style>\n",
              "<table border=\"1\" class=\"dataframe\">\n",
              "  <thead>\n",
              "    <tr style=\"text-align: right;\">\n",
              "      <th></th>\n",
              "      <th>Time</th>\n",
              "      <th>V1</th>\n",
              "      <th>V2</th>\n",
              "      <th>V3</th>\n",
              "      <th>V4</th>\n",
              "      <th>V5</th>\n",
              "      <th>V6</th>\n",
              "      <th>V7</th>\n",
              "      <th>V8</th>\n",
              "      <th>V9</th>\n",
              "      <th>V10</th>\n",
              "      <th>V11</th>\n",
              "      <th>V12</th>\n",
              "      <th>V13</th>\n",
              "      <th>V14</th>\n",
              "      <th>V15</th>\n",
              "      <th>V16</th>\n",
              "      <th>V17</th>\n",
              "      <th>V18</th>\n",
              "      <th>V19</th>\n",
              "      <th>V20</th>\n",
              "      <th>V21</th>\n",
              "      <th>V22</th>\n",
              "      <th>V23</th>\n",
              "      <th>V24</th>\n",
              "      <th>V25</th>\n",
              "      <th>V26</th>\n",
              "      <th>V27</th>\n",
              "      <th>V28</th>\n",
              "      <th>Amount</th>\n",
              "      <th>Class</th>\n",
              "    </tr>\n",
              "  </thead>\n",
              "  <tbody>\n",
              "    <tr>\n",
              "      <th>0</th>\n",
              "      <td>0.0</td>\n",
              "      <td>-1.359807</td>\n",
              "      <td>-0.072781</td>\n",
              "      <td>2.536347</td>\n",
              "      <td>1.378155</td>\n",
              "      <td>-0.338321</td>\n",
              "      <td>0.462388</td>\n",
              "      <td>0.239599</td>\n",
              "      <td>0.098698</td>\n",
              "      <td>0.363787</td>\n",
              "      <td>0.090794</td>\n",
              "      <td>-0.551600</td>\n",
              "      <td>-0.617801</td>\n",
              "      <td>-0.991390</td>\n",
              "      <td>-0.311169</td>\n",
              "      <td>1.468177</td>\n",
              "      <td>-0.470401</td>\n",
              "      <td>0.207971</td>\n",
              "      <td>0.025791</td>\n",
              "      <td>0.403993</td>\n",
              "      <td>0.251412</td>\n",
              "      <td>-0.018307</td>\n",
              "      <td>0.277838</td>\n",
              "      <td>-0.110474</td>\n",
              "      <td>0.066928</td>\n",
              "      <td>0.128539</td>\n",
              "      <td>-0.189115</td>\n",
              "      <td>0.133558</td>\n",
              "      <td>-0.021053</td>\n",
              "      <td>149.62</td>\n",
              "      <td>0</td>\n",
              "    </tr>\n",
              "    <tr>\n",
              "      <th>1</th>\n",
              "      <td>0.0</td>\n",
              "      <td>1.191857</td>\n",
              "      <td>0.266151</td>\n",
              "      <td>0.166480</td>\n",
              "      <td>0.448154</td>\n",
              "      <td>0.060018</td>\n",
              "      <td>-0.082361</td>\n",
              "      <td>-0.078803</td>\n",
              "      <td>0.085102</td>\n",
              "      <td>-0.255425</td>\n",
              "      <td>-0.166974</td>\n",
              "      <td>1.612727</td>\n",
              "      <td>1.065235</td>\n",
              "      <td>0.489095</td>\n",
              "      <td>-0.143772</td>\n",
              "      <td>0.635558</td>\n",
              "      <td>0.463917</td>\n",
              "      <td>-0.114805</td>\n",
              "      <td>-0.183361</td>\n",
              "      <td>-0.145783</td>\n",
              "      <td>-0.069083</td>\n",
              "      <td>-0.225775</td>\n",
              "      <td>-0.638672</td>\n",
              "      <td>0.101288</td>\n",
              "      <td>-0.339846</td>\n",
              "      <td>0.167170</td>\n",
              "      <td>0.125895</td>\n",
              "      <td>-0.008983</td>\n",
              "      <td>0.014724</td>\n",
              "      <td>2.69</td>\n",
              "      <td>0</td>\n",
              "    </tr>\n",
              "    <tr>\n",
              "      <th>2</th>\n",
              "      <td>1.0</td>\n",
              "      <td>-1.358354</td>\n",
              "      <td>-1.340163</td>\n",
              "      <td>1.773209</td>\n",
              "      <td>0.379780</td>\n",
              "      <td>-0.503198</td>\n",
              "      <td>1.800499</td>\n",
              "      <td>0.791461</td>\n",
              "      <td>0.247676</td>\n",
              "      <td>-1.514654</td>\n",
              "      <td>0.207643</td>\n",
              "      <td>0.624501</td>\n",
              "      <td>0.066084</td>\n",
              "      <td>0.717293</td>\n",
              "      <td>-0.165946</td>\n",
              "      <td>2.345865</td>\n",
              "      <td>-2.890083</td>\n",
              "      <td>1.109969</td>\n",
              "      <td>-0.121359</td>\n",
              "      <td>-2.261857</td>\n",
              "      <td>0.524980</td>\n",
              "      <td>0.247998</td>\n",
              "      <td>0.771679</td>\n",
              "      <td>0.909412</td>\n",
              "      <td>-0.689281</td>\n",
              "      <td>-0.327642</td>\n",
              "      <td>-0.139097</td>\n",
              "      <td>-0.055353</td>\n",
              "      <td>-0.059752</td>\n",
              "      <td>378.66</td>\n",
              "      <td>0</td>\n",
              "    </tr>\n",
              "    <tr>\n",
              "      <th>3</th>\n",
              "      <td>1.0</td>\n",
              "      <td>-0.966272</td>\n",
              "      <td>-0.185226</td>\n",
              "      <td>1.792993</td>\n",
              "      <td>-0.863291</td>\n",
              "      <td>-0.010309</td>\n",
              "      <td>1.247203</td>\n",
              "      <td>0.237609</td>\n",
              "      <td>0.377436</td>\n",
              "      <td>-1.387024</td>\n",
              "      <td>-0.054952</td>\n",
              "      <td>-0.226487</td>\n",
              "      <td>0.178228</td>\n",
              "      <td>0.507757</td>\n",
              "      <td>-0.287924</td>\n",
              "      <td>-0.631418</td>\n",
              "      <td>-1.059647</td>\n",
              "      <td>-0.684093</td>\n",
              "      <td>1.965775</td>\n",
              "      <td>-1.232622</td>\n",
              "      <td>-0.208038</td>\n",
              "      <td>-0.108300</td>\n",
              "      <td>0.005274</td>\n",
              "      <td>-0.190321</td>\n",
              "      <td>-1.175575</td>\n",
              "      <td>0.647376</td>\n",
              "      <td>-0.221929</td>\n",
              "      <td>0.062723</td>\n",
              "      <td>0.061458</td>\n",
              "      <td>123.50</td>\n",
              "      <td>0</td>\n",
              "    </tr>\n",
              "    <tr>\n",
              "      <th>4</th>\n",
              "      <td>2.0</td>\n",
              "      <td>-1.158233</td>\n",
              "      <td>0.877737</td>\n",
              "      <td>1.548718</td>\n",
              "      <td>0.403034</td>\n",
              "      <td>-0.407193</td>\n",
              "      <td>0.095921</td>\n",
              "      <td>0.592941</td>\n",
              "      <td>-0.270533</td>\n",
              "      <td>0.817739</td>\n",
              "      <td>0.753074</td>\n",
              "      <td>-0.822843</td>\n",
              "      <td>0.538196</td>\n",
              "      <td>1.345852</td>\n",
              "      <td>-1.119670</td>\n",
              "      <td>0.175121</td>\n",
              "      <td>-0.451449</td>\n",
              "      <td>-0.237033</td>\n",
              "      <td>-0.038195</td>\n",
              "      <td>0.803487</td>\n",
              "      <td>0.408542</td>\n",
              "      <td>-0.009431</td>\n",
              "      <td>0.798278</td>\n",
              "      <td>-0.137458</td>\n",
              "      <td>0.141267</td>\n",
              "      <td>-0.206010</td>\n",
              "      <td>0.502292</td>\n",
              "      <td>0.219422</td>\n",
              "      <td>0.215153</td>\n",
              "      <td>69.99</td>\n",
              "      <td>0</td>\n",
              "    </tr>\n",
              "  </tbody>\n",
              "</table>\n",
              "</div>"
            ],
            "text/plain": [
              "   Time        V1        V2        V3  ...       V27       V28  Amount  Class\n",
              "0   0.0 -1.359807 -0.072781  2.536347  ...  0.133558 -0.021053  149.62      0\n",
              "1   0.0  1.191857  0.266151  0.166480  ... -0.008983  0.014724    2.69      0\n",
              "2   1.0 -1.358354 -1.340163  1.773209  ... -0.055353 -0.059752  378.66      0\n",
              "3   1.0 -0.966272 -0.185226  1.792993  ...  0.062723  0.061458  123.50      0\n",
              "4   2.0 -1.158233  0.877737  1.548718  ...  0.219422  0.215153   69.99      0\n",
              "\n",
              "[5 rows x 31 columns]"
            ]
          },
          "metadata": {
            "tags": []
          },
          "execution_count": 7
        }
      ]
    },
    {
      "cell_type": "markdown",
      "metadata": {
        "id": "Pqyn3m55QXwx"
      },
      "source": [
        "#### Verificar dados ausentes"
      ]
    },
    {
      "cell_type": "code",
      "metadata": {
        "colab": {
          "base_uri": "https://localhost:8080/"
        },
        "id": "V0YbSoYUJPm8",
        "outputId": "b6fde11a-09fd-4b1f-b0e0-4e6fe749f13e"
      },
      "source": [
        "df.isnull().sum()"
      ],
      "execution_count": null,
      "outputs": [
        {
          "output_type": "execute_result",
          "data": {
            "text/plain": [
              "Time      0\n",
              "V1        0\n",
              "V2        0\n",
              "V3        0\n",
              "V4        0\n",
              "V5        0\n",
              "V6        0\n",
              "V7        0\n",
              "V8        0\n",
              "V9        0\n",
              "V10       0\n",
              "V11       0\n",
              "V12       0\n",
              "V13       0\n",
              "V14       0\n",
              "V15       0\n",
              "V16       0\n",
              "V17       0\n",
              "V18       0\n",
              "V19       0\n",
              "V20       0\n",
              "V21       0\n",
              "V22       0\n",
              "V23       0\n",
              "V24       0\n",
              "V25       0\n",
              "V26       0\n",
              "V27       0\n",
              "V28       0\n",
              "Amount    0\n",
              "Class     0\n",
              "dtype: int64"
            ]
          },
          "metadata": {
            "tags": []
          },
          "execution_count": 8
        }
      ]
    },
    {
      "cell_type": "code",
      "metadata": {
        "colab": {
          "base_uri": "https://localhost:8080/"
        },
        "id": "cv3FT48o6sPl",
        "outputId": "fecafc27-f9b5-4dc1-f48b-3d3c63252027"
      },
      "source": [
        "df.isna().sum()"
      ],
      "execution_count": null,
      "outputs": [
        {
          "output_type": "execute_result",
          "data": {
            "text/plain": [
              "Time      0\n",
              "V1        0\n",
              "V2        0\n",
              "V3        0\n",
              "V4        0\n",
              "V5        0\n",
              "V6        0\n",
              "V7        0\n",
              "V8        0\n",
              "V9        0\n",
              "V10       0\n",
              "V11       0\n",
              "V12       0\n",
              "V13       0\n",
              "V14       0\n",
              "V15       0\n",
              "V16       0\n",
              "V17       0\n",
              "V18       0\n",
              "V19       0\n",
              "V20       0\n",
              "V21       0\n",
              "V22       0\n",
              "V23       0\n",
              "V24       0\n",
              "V25       0\n",
              "V26       0\n",
              "V27       0\n",
              "V28       0\n",
              "Amount    0\n",
              "Class     0\n",
              "dtype: int64"
            ]
          },
          "metadata": {
            "tags": []
          },
          "execution_count": 9
        }
      ]
    },
    {
      "cell_type": "code",
      "metadata": {
        "colab": {
          "base_uri": "https://localhost:8080/"
        },
        "id": "IkqDQtDvAeoa",
        "outputId": "d0413b23-a2f5-49d9-f03a-0d7dd48d9331"
      },
      "source": [
        "df.Class.nunique()"
      ],
      "execution_count": null,
      "outputs": [
        {
          "output_type": "execute_result",
          "data": {
            "text/plain": [
              "2"
            ]
          },
          "metadata": {
            "tags": []
          },
          "execution_count": 10
        }
      ]
    },
    {
      "cell_type": "code",
      "metadata": {
        "colab": {
          "base_uri": "https://localhost:8080/"
        },
        "id": "hsTZ6s17F9r8",
        "outputId": "fd5cd73c-50bc-4da0-a045-a199ad592ecf"
      },
      "source": [
        "df['Class'].value_counts()"
      ],
      "execution_count": null,
      "outputs": [
        {
          "output_type": "execute_result",
          "data": {
            "text/plain": [
              "0    284315\n",
              "1       492\n",
              "Name: Class, dtype: int64"
            ]
          },
          "metadata": {
            "tags": []
          },
          "execution_count": 11
        }
      ]
    },
    {
      "cell_type": "code",
      "metadata": {
        "colab": {
          "base_uri": "https://localhost:8080/"
        },
        "id": "_FWjomgGQhX-",
        "outputId": "ce63d569-c075-4cc9-fb79-7b04bf8ba1f5"
      },
      "source": [
        "df['Class'].value_counts(normalize=True)"
      ],
      "execution_count": null,
      "outputs": [
        {
          "output_type": "execute_result",
          "data": {
            "text/plain": [
              "0    0.998273\n",
              "1    0.001727\n",
              "Name: Class, dtype: float64"
            ]
          },
          "metadata": {
            "tags": []
          },
          "execution_count": 12
        }
      ]
    },
    {
      "cell_type": "code",
      "metadata": {
        "colab": {
          "base_uri": "https://localhost:8080/",
          "height": 1000
        },
        "id": "ZOdHZCx0QyFf",
        "outputId": "cbaf2cad-857b-400d-9214-c0dcb5079b35"
      },
      "source": [
        "df.corr()"
      ],
      "execution_count": null,
      "outputs": [
        {
          "output_type": "execute_result",
          "data": {
            "text/html": [
              "<div>\n",
              "<style scoped>\n",
              "    .dataframe tbody tr th:only-of-type {\n",
              "        vertical-align: middle;\n",
              "    }\n",
              "\n",
              "    .dataframe tbody tr th {\n",
              "        vertical-align: top;\n",
              "    }\n",
              "\n",
              "    .dataframe thead th {\n",
              "        text-align: right;\n",
              "    }\n",
              "</style>\n",
              "<table border=\"1\" class=\"dataframe\">\n",
              "  <thead>\n",
              "    <tr style=\"text-align: right;\">\n",
              "      <th></th>\n",
              "      <th>Time</th>\n",
              "      <th>V1</th>\n",
              "      <th>V2</th>\n",
              "      <th>V3</th>\n",
              "      <th>V4</th>\n",
              "      <th>V5</th>\n",
              "      <th>V6</th>\n",
              "      <th>V7</th>\n",
              "      <th>V8</th>\n",
              "      <th>V9</th>\n",
              "      <th>V10</th>\n",
              "      <th>V11</th>\n",
              "      <th>V12</th>\n",
              "      <th>V13</th>\n",
              "      <th>V14</th>\n",
              "      <th>V15</th>\n",
              "      <th>V16</th>\n",
              "      <th>V17</th>\n",
              "      <th>V18</th>\n",
              "      <th>V19</th>\n",
              "      <th>V20</th>\n",
              "      <th>V21</th>\n",
              "      <th>V22</th>\n",
              "      <th>V23</th>\n",
              "      <th>V24</th>\n",
              "      <th>V25</th>\n",
              "      <th>V26</th>\n",
              "      <th>V27</th>\n",
              "      <th>V28</th>\n",
              "      <th>Amount</th>\n",
              "      <th>Class</th>\n",
              "    </tr>\n",
              "  </thead>\n",
              "  <tbody>\n",
              "    <tr>\n",
              "      <th>Time</th>\n",
              "      <td>1.000000</td>\n",
              "      <td>1.173963e-01</td>\n",
              "      <td>-1.059333e-02</td>\n",
              "      <td>-4.196182e-01</td>\n",
              "      <td>-1.052602e-01</td>\n",
              "      <td>1.730721e-01</td>\n",
              "      <td>-6.301647e-02</td>\n",
              "      <td>8.471437e-02</td>\n",
              "      <td>-3.694943e-02</td>\n",
              "      <td>-8.660434e-03</td>\n",
              "      <td>3.061663e-02</td>\n",
              "      <td>-2.476894e-01</td>\n",
              "      <td>1.243481e-01</td>\n",
              "      <td>-6.590202e-02</td>\n",
              "      <td>-9.875682e-02</td>\n",
              "      <td>-1.834533e-01</td>\n",
              "      <td>1.190287e-02</td>\n",
              "      <td>-7.329721e-02</td>\n",
              "      <td>9.043813e-02</td>\n",
              "      <td>2.897530e-02</td>\n",
              "      <td>-5.086602e-02</td>\n",
              "      <td>4.473573e-02</td>\n",
              "      <td>1.440591e-01</td>\n",
              "      <td>5.114236e-02</td>\n",
              "      <td>-1.618187e-02</td>\n",
              "      <td>-2.330828e-01</td>\n",
              "      <td>-4.140710e-02</td>\n",
              "      <td>-5.134591e-03</td>\n",
              "      <td>-9.412688e-03</td>\n",
              "      <td>-0.010596</td>\n",
              "      <td>-0.012323</td>\n",
              "    </tr>\n",
              "    <tr>\n",
              "      <th>V1</th>\n",
              "      <td>0.117396</td>\n",
              "      <td>1.000000e+00</td>\n",
              "      <td>4.697350e-17</td>\n",
              "      <td>-1.424390e-15</td>\n",
              "      <td>1.755316e-17</td>\n",
              "      <td>6.391162e-17</td>\n",
              "      <td>2.398071e-16</td>\n",
              "      <td>1.991550e-15</td>\n",
              "      <td>-9.490675e-17</td>\n",
              "      <td>2.169581e-16</td>\n",
              "      <td>7.433820e-17</td>\n",
              "      <td>2.438580e-16</td>\n",
              "      <td>2.422086e-16</td>\n",
              "      <td>-2.115458e-16</td>\n",
              "      <td>9.352582e-16</td>\n",
              "      <td>-3.252451e-16</td>\n",
              "      <td>6.308789e-16</td>\n",
              "      <td>-5.011524e-16</td>\n",
              "      <td>2.870125e-16</td>\n",
              "      <td>1.818128e-16</td>\n",
              "      <td>1.036959e-16</td>\n",
              "      <td>-1.755072e-16</td>\n",
              "      <td>7.477367e-17</td>\n",
              "      <td>9.808705e-16</td>\n",
              "      <td>7.354269e-17</td>\n",
              "      <td>-9.805358e-16</td>\n",
              "      <td>-8.621897e-17</td>\n",
              "      <td>3.208233e-17</td>\n",
              "      <td>9.820892e-16</td>\n",
              "      <td>-0.227709</td>\n",
              "      <td>-0.101347</td>\n",
              "    </tr>\n",
              "    <tr>\n",
              "      <th>V2</th>\n",
              "      <td>-0.010593</td>\n",
              "      <td>4.697350e-17</td>\n",
              "      <td>1.000000e+00</td>\n",
              "      <td>2.512175e-16</td>\n",
              "      <td>-1.126388e-16</td>\n",
              "      <td>-2.039868e-16</td>\n",
              "      <td>5.024680e-16</td>\n",
              "      <td>3.966486e-16</td>\n",
              "      <td>-4.413984e-17</td>\n",
              "      <td>-5.728718e-17</td>\n",
              "      <td>-4.782388e-16</td>\n",
              "      <td>9.468995e-16</td>\n",
              "      <td>-6.588252e-16</td>\n",
              "      <td>3.854521e-16</td>\n",
              "      <td>-2.541036e-16</td>\n",
              "      <td>2.831060e-16</td>\n",
              "      <td>4.934097e-17</td>\n",
              "      <td>-9.883008e-16</td>\n",
              "      <td>2.636654e-16</td>\n",
              "      <td>9.528280e-17</td>\n",
              "      <td>-9.309954e-16</td>\n",
              "      <td>8.444409e-17</td>\n",
              "      <td>2.500830e-16</td>\n",
              "      <td>1.059562e-16</td>\n",
              "      <td>-8.142354e-18</td>\n",
              "      <td>-4.261894e-17</td>\n",
              "      <td>2.601622e-16</td>\n",
              "      <td>-4.478472e-16</td>\n",
              "      <td>-3.676415e-16</td>\n",
              "      <td>-0.531409</td>\n",
              "      <td>0.091289</td>\n",
              "    </tr>\n",
              "    <tr>\n",
              "      <th>V3</th>\n",
              "      <td>-0.419618</td>\n",
              "      <td>-1.424390e-15</td>\n",
              "      <td>2.512175e-16</td>\n",
              "      <td>1.000000e+00</td>\n",
              "      <td>-3.416910e-16</td>\n",
              "      <td>-1.436514e-15</td>\n",
              "      <td>1.431581e-15</td>\n",
              "      <td>2.168574e-15</td>\n",
              "      <td>3.433113e-16</td>\n",
              "      <td>-4.233770e-16</td>\n",
              "      <td>6.289267e-16</td>\n",
              "      <td>-5.501758e-17</td>\n",
              "      <td>2.206522e-16</td>\n",
              "      <td>-6.883375e-16</td>\n",
              "      <td>4.271336e-16</td>\n",
              "      <td>1.122756e-16</td>\n",
              "      <td>1.183364e-15</td>\n",
              "      <td>4.576619e-17</td>\n",
              "      <td>5.427965e-16</td>\n",
              "      <td>2.576773e-16</td>\n",
              "      <td>-9.429297e-16</td>\n",
              "      <td>-2.971969e-17</td>\n",
              "      <td>4.648259e-16</td>\n",
              "      <td>2.115206e-17</td>\n",
              "      <td>-9.351637e-17</td>\n",
              "      <td>4.771164e-16</td>\n",
              "      <td>6.521501e-16</td>\n",
              "      <td>6.239832e-16</td>\n",
              "      <td>7.726948e-16</td>\n",
              "      <td>-0.210880</td>\n",
              "      <td>-0.192961</td>\n",
              "    </tr>\n",
              "    <tr>\n",
              "      <th>V4</th>\n",
              "      <td>-0.105260</td>\n",
              "      <td>1.755316e-17</td>\n",
              "      <td>-1.126388e-16</td>\n",
              "      <td>-3.416910e-16</td>\n",
              "      <td>1.000000e+00</td>\n",
              "      <td>-1.940929e-15</td>\n",
              "      <td>-2.712659e-16</td>\n",
              "      <td>1.556330e-16</td>\n",
              "      <td>5.195643e-16</td>\n",
              "      <td>3.859585e-16</td>\n",
              "      <td>6.055490e-16</td>\n",
              "      <td>-2.083600e-16</td>\n",
              "      <td>-5.657963e-16</td>\n",
              "      <td>-1.506129e-16</td>\n",
              "      <td>-8.522435e-17</td>\n",
              "      <td>-1.507718e-16</td>\n",
              "      <td>-6.939204e-16</td>\n",
              "      <td>-4.397925e-16</td>\n",
              "      <td>1.493667e-16</td>\n",
              "      <td>-2.656938e-16</td>\n",
              "      <td>-3.223123e-16</td>\n",
              "      <td>-9.976950e-17</td>\n",
              "      <td>2.099922e-16</td>\n",
              "      <td>6.002528e-17</td>\n",
              "      <td>2.229738e-16</td>\n",
              "      <td>5.394585e-16</td>\n",
              "      <td>-6.179751e-16</td>\n",
              "      <td>-6.403423e-17</td>\n",
              "      <td>-5.863664e-17</td>\n",
              "      <td>0.098732</td>\n",
              "      <td>0.133447</td>\n",
              "    </tr>\n",
              "    <tr>\n",
              "      <th>V5</th>\n",
              "      <td>0.173072</td>\n",
              "      <td>6.391162e-17</td>\n",
              "      <td>-2.039868e-16</td>\n",
              "      <td>-1.436514e-15</td>\n",
              "      <td>-1.940929e-15</td>\n",
              "      <td>1.000000e+00</td>\n",
              "      <td>7.926364e-16</td>\n",
              "      <td>-4.209851e-16</td>\n",
              "      <td>7.589187e-16</td>\n",
              "      <td>4.205206e-16</td>\n",
              "      <td>-6.601716e-16</td>\n",
              "      <td>7.342759e-16</td>\n",
              "      <td>3.761033e-16</td>\n",
              "      <td>-9.578659e-16</td>\n",
              "      <td>-3.634803e-16</td>\n",
              "      <td>-5.132620e-16</td>\n",
              "      <td>-3.517076e-16</td>\n",
              "      <td>1.425729e-16</td>\n",
              "      <td>1.109525e-15</td>\n",
              "      <td>-3.138234e-16</td>\n",
              "      <td>2.076048e-16</td>\n",
              "      <td>-1.368701e-16</td>\n",
              "      <td>5.060029e-16</td>\n",
              "      <td>1.637596e-16</td>\n",
              "      <td>-9.286095e-16</td>\n",
              "      <td>5.625102e-16</td>\n",
              "      <td>9.144690e-16</td>\n",
              "      <td>4.465960e-16</td>\n",
              "      <td>-3.299167e-16</td>\n",
              "      <td>-0.386356</td>\n",
              "      <td>-0.094974</td>\n",
              "    </tr>\n",
              "    <tr>\n",
              "      <th>V6</th>\n",
              "      <td>-0.063016</td>\n",
              "      <td>2.398071e-16</td>\n",
              "      <td>5.024680e-16</td>\n",
              "      <td>1.431581e-15</td>\n",
              "      <td>-2.712659e-16</td>\n",
              "      <td>7.926364e-16</td>\n",
              "      <td>1.000000e+00</td>\n",
              "      <td>1.429426e-16</td>\n",
              "      <td>-1.707421e-16</td>\n",
              "      <td>1.114447e-16</td>\n",
              "      <td>2.850776e-16</td>\n",
              "      <td>4.865799e-16</td>\n",
              "      <td>2.140589e-16</td>\n",
              "      <td>-2.268061e-16</td>\n",
              "      <td>3.452801e-16</td>\n",
              "      <td>-6.368111e-18</td>\n",
              "      <td>-2.477917e-16</td>\n",
              "      <td>3.567582e-16</td>\n",
              "      <td>2.811474e-16</td>\n",
              "      <td>2.717167e-16</td>\n",
              "      <td>1.898638e-16</td>\n",
              "      <td>-1.575903e-16</td>\n",
              "      <td>-3.362902e-16</td>\n",
              "      <td>-7.232186e-17</td>\n",
              "      <td>-1.261867e-15</td>\n",
              "      <td>1.081933e-15</td>\n",
              "      <td>-2.378414e-16</td>\n",
              "      <td>-2.623818e-16</td>\n",
              "      <td>4.813155e-16</td>\n",
              "      <td>0.215981</td>\n",
              "      <td>-0.043643</td>\n",
              "    </tr>\n",
              "    <tr>\n",
              "      <th>V7</th>\n",
              "      <td>0.084714</td>\n",
              "      <td>1.991550e-15</td>\n",
              "      <td>3.966486e-16</td>\n",
              "      <td>2.168574e-15</td>\n",
              "      <td>1.556330e-16</td>\n",
              "      <td>-4.209851e-16</td>\n",
              "      <td>1.429426e-16</td>\n",
              "      <td>1.000000e+00</td>\n",
              "      <td>-8.691834e-17</td>\n",
              "      <td>7.933251e-16</td>\n",
              "      <td>3.043333e-17</td>\n",
              "      <td>-1.084105e-15</td>\n",
              "      <td>1.510045e-15</td>\n",
              "      <td>-9.892325e-17</td>\n",
              "      <td>-1.729462e-16</td>\n",
              "      <td>1.936832e-17</td>\n",
              "      <td>2.893672e-16</td>\n",
              "      <td>1.149692e-15</td>\n",
              "      <td>-1.116789e-16</td>\n",
              "      <td>-2.874017e-16</td>\n",
              "      <td>1.744242e-16</td>\n",
              "      <td>1.938604e-16</td>\n",
              "      <td>-1.058131e-15</td>\n",
              "      <td>2.327911e-16</td>\n",
              "      <td>-2.589727e-17</td>\n",
              "      <td>1.174169e-15</td>\n",
              "      <td>-7.334507e-16</td>\n",
              "      <td>-5.886825e-16</td>\n",
              "      <td>-6.836764e-17</td>\n",
              "      <td>0.397311</td>\n",
              "      <td>-0.187257</td>\n",
              "    </tr>\n",
              "    <tr>\n",
              "      <th>V8</th>\n",
              "      <td>-0.036949</td>\n",
              "      <td>-9.490675e-17</td>\n",
              "      <td>-4.413984e-17</td>\n",
              "      <td>3.433113e-16</td>\n",
              "      <td>5.195643e-16</td>\n",
              "      <td>7.589187e-16</td>\n",
              "      <td>-1.707421e-16</td>\n",
              "      <td>-8.691834e-17</td>\n",
              "      <td>1.000000e+00</td>\n",
              "      <td>2.900829e-16</td>\n",
              "      <td>9.051847e-17</td>\n",
              "      <td>1.954747e-16</td>\n",
              "      <td>-6.266057e-17</td>\n",
              "      <td>-2.382948e-16</td>\n",
              "      <td>-1.131098e-16</td>\n",
              "      <td>2.021491e-16</td>\n",
              "      <td>5.027192e-16</td>\n",
              "      <td>-3.508777e-16</td>\n",
              "      <td>-4.093852e-16</td>\n",
              "      <td>-5.339821e-16</td>\n",
              "      <td>-1.095534e-16</td>\n",
              "      <td>-2.412439e-16</td>\n",
              "      <td>5.475559e-16</td>\n",
              "      <td>3.897104e-16</td>\n",
              "      <td>-1.802967e-16</td>\n",
              "      <td>-1.390791e-16</td>\n",
              "      <td>-1.209975e-16</td>\n",
              "      <td>1.733633e-16</td>\n",
              "      <td>-4.484325e-16</td>\n",
              "      <td>-0.103079</td>\n",
              "      <td>0.019875</td>\n",
              "    </tr>\n",
              "    <tr>\n",
              "      <th>V9</th>\n",
              "      <td>-0.008660</td>\n",
              "      <td>2.169581e-16</td>\n",
              "      <td>-5.728718e-17</td>\n",
              "      <td>-4.233770e-16</td>\n",
              "      <td>3.859585e-16</td>\n",
              "      <td>4.205206e-16</td>\n",
              "      <td>1.114447e-16</td>\n",
              "      <td>7.933251e-16</td>\n",
              "      <td>2.900829e-16</td>\n",
              "      <td>1.000000e+00</td>\n",
              "      <td>-2.771761e-16</td>\n",
              "      <td>4.682341e-16</td>\n",
              "      <td>-2.445230e-15</td>\n",
              "      <td>-2.650351e-16</td>\n",
              "      <td>2.343317e-16</td>\n",
              "      <td>-1.588105e-15</td>\n",
              "      <td>-3.251906e-16</td>\n",
              "      <td>6.535992e-16</td>\n",
              "      <td>1.203843e-16</td>\n",
              "      <td>1.120752e-16</td>\n",
              "      <td>-4.340941e-16</td>\n",
              "      <td>4.578389e-17</td>\n",
              "      <td>2.871855e-17</td>\n",
              "      <td>5.929286e-16</td>\n",
              "      <td>-2.346385e-16</td>\n",
              "      <td>1.099645e-15</td>\n",
              "      <td>-1.388725e-15</td>\n",
              "      <td>-2.287414e-16</td>\n",
              "      <td>9.146779e-16</td>\n",
              "      <td>-0.044246</td>\n",
              "      <td>-0.097733</td>\n",
              "    </tr>\n",
              "    <tr>\n",
              "      <th>V10</th>\n",
              "      <td>0.030617</td>\n",
              "      <td>7.433820e-17</td>\n",
              "      <td>-4.782388e-16</td>\n",
              "      <td>6.289267e-16</td>\n",
              "      <td>6.055490e-16</td>\n",
              "      <td>-6.601716e-16</td>\n",
              "      <td>2.850776e-16</td>\n",
              "      <td>3.043333e-17</td>\n",
              "      <td>9.051847e-17</td>\n",
              "      <td>-2.771761e-16</td>\n",
              "      <td>1.000000e+00</td>\n",
              "      <td>2.624448e-16</td>\n",
              "      <td>1.439907e-15</td>\n",
              "      <td>-8.853582e-16</td>\n",
              "      <td>2.622513e-16</td>\n",
              "      <td>7.615272e-16</td>\n",
              "      <td>-1.705923e-15</td>\n",
              "      <td>3.674182e-15</td>\n",
              "      <td>3.986710e-16</td>\n",
              "      <td>2.663038e-17</td>\n",
              "      <td>-1.141888e-15</td>\n",
              "      <td>8.089504e-16</td>\n",
              "      <td>-6.707598e-16</td>\n",
              "      <td>3.809732e-16</td>\n",
              "      <td>-4.032806e-17</td>\n",
              "      <td>-2.863813e-16</td>\n",
              "      <td>-2.554293e-16</td>\n",
              "      <td>-3.103239e-16</td>\n",
              "      <td>-1.515934e-16</td>\n",
              "      <td>-0.101502</td>\n",
              "      <td>-0.216883</td>\n",
              "    </tr>\n",
              "    <tr>\n",
              "      <th>V11</th>\n",
              "      <td>-0.247689</td>\n",
              "      <td>2.438580e-16</td>\n",
              "      <td>9.468995e-16</td>\n",
              "      <td>-5.501758e-17</td>\n",
              "      <td>-2.083600e-16</td>\n",
              "      <td>7.342759e-16</td>\n",
              "      <td>4.865799e-16</td>\n",
              "      <td>-1.084105e-15</td>\n",
              "      <td>1.954747e-16</td>\n",
              "      <td>4.682341e-16</td>\n",
              "      <td>2.624448e-16</td>\n",
              "      <td>1.000000e+00</td>\n",
              "      <td>3.176029e-15</td>\n",
              "      <td>1.945810e-15</td>\n",
              "      <td>3.637160e-17</td>\n",
              "      <td>4.801345e-16</td>\n",
              "      <td>-6.173867e-16</td>\n",
              "      <td>8.719713e-16</td>\n",
              "      <td>5.978229e-16</td>\n",
              "      <td>3.216338e-16</td>\n",
              "      <td>-2.310189e-16</td>\n",
              "      <td>-3.911893e-16</td>\n",
              "      <td>-3.811640e-17</td>\n",
              "      <td>2.232007e-16</td>\n",
              "      <td>1.219849e-15</td>\n",
              "      <td>-4.567635e-16</td>\n",
              "      <td>-1.110976e-16</td>\n",
              "      <td>-2.635827e-16</td>\n",
              "      <td>-3.091914e-16</td>\n",
              "      <td>0.000104</td>\n",
              "      <td>0.154876</td>\n",
              "    </tr>\n",
              "    <tr>\n",
              "      <th>V12</th>\n",
              "      <td>0.124348</td>\n",
              "      <td>2.422086e-16</td>\n",
              "      <td>-6.588252e-16</td>\n",
              "      <td>2.206522e-16</td>\n",
              "      <td>-5.657963e-16</td>\n",
              "      <td>3.761033e-16</td>\n",
              "      <td>2.140589e-16</td>\n",
              "      <td>1.510045e-15</td>\n",
              "      <td>-6.266057e-17</td>\n",
              "      <td>-2.445230e-15</td>\n",
              "      <td>1.439907e-15</td>\n",
              "      <td>3.176029e-15</td>\n",
              "      <td>1.000000e+00</td>\n",
              "      <td>-2.306149e-14</td>\n",
              "      <td>1.761652e-16</td>\n",
              "      <td>8.858186e-16</td>\n",
              "      <td>3.530418e-16</td>\n",
              "      <td>-9.869814e-16</td>\n",
              "      <td>-5.881814e-16</td>\n",
              "      <td>9.282566e-17</td>\n",
              "      <td>1.276976e-16</td>\n",
              "      <td>3.229576e-16</td>\n",
              "      <td>-5.903992e-16</td>\n",
              "      <td>1.392162e-16</td>\n",
              "      <td>4.901644e-16</td>\n",
              "      <td>5.053736e-16</td>\n",
              "      <td>-5.759321e-16</td>\n",
              "      <td>-2.312619e-16</td>\n",
              "      <td>7.327446e-16</td>\n",
              "      <td>-0.009542</td>\n",
              "      <td>-0.260593</td>\n",
              "    </tr>\n",
              "    <tr>\n",
              "      <th>V13</th>\n",
              "      <td>-0.065902</td>\n",
              "      <td>-2.115458e-16</td>\n",
              "      <td>3.854521e-16</td>\n",
              "      <td>-6.883375e-16</td>\n",
              "      <td>-1.506129e-16</td>\n",
              "      <td>-9.578659e-16</td>\n",
              "      <td>-2.268061e-16</td>\n",
              "      <td>-9.892325e-17</td>\n",
              "      <td>-2.382948e-16</td>\n",
              "      <td>-2.650351e-16</td>\n",
              "      <td>-8.853582e-16</td>\n",
              "      <td>1.945810e-15</td>\n",
              "      <td>-2.306149e-14</td>\n",
              "      <td>1.000000e+00</td>\n",
              "      <td>2.841428e-15</td>\n",
              "      <td>-4.728048e-16</td>\n",
              "      <td>3.361767e-16</td>\n",
              "      <td>-3.187905e-16</td>\n",
              "      <td>3.192535e-16</td>\n",
              "      <td>-2.594988e-16</td>\n",
              "      <td>2.345665e-18</td>\n",
              "      <td>9.499130e-17</td>\n",
              "      <td>-2.659710e-17</td>\n",
              "      <td>-5.884304e-16</td>\n",
              "      <td>-5.470547e-16</td>\n",
              "      <td>8.066738e-17</td>\n",
              "      <td>-2.121518e-16</td>\n",
              "      <td>-4.520414e-16</td>\n",
              "      <td>1.049541e-15</td>\n",
              "      <td>0.005293</td>\n",
              "      <td>-0.004570</td>\n",
              "    </tr>\n",
              "    <tr>\n",
              "      <th>V14</th>\n",
              "      <td>-0.098757</td>\n",
              "      <td>9.352582e-16</td>\n",
              "      <td>-2.541036e-16</td>\n",
              "      <td>4.271336e-16</td>\n",
              "      <td>-8.522435e-17</td>\n",
              "      <td>-3.634803e-16</td>\n",
              "      <td>3.452801e-16</td>\n",
              "      <td>-1.729462e-16</td>\n",
              "      <td>-1.131098e-16</td>\n",
              "      <td>2.343317e-16</td>\n",
              "      <td>2.622513e-16</td>\n",
              "      <td>3.637160e-17</td>\n",
              "      <td>1.761652e-16</td>\n",
              "      <td>2.841428e-15</td>\n",
              "      <td>1.000000e+00</td>\n",
              "      <td>4.165738e-17</td>\n",
              "      <td>7.910367e-17</td>\n",
              "      <td>4.626140e-15</td>\n",
              "      <td>8.980955e-17</td>\n",
              "      <td>-1.061486e-16</td>\n",
              "      <td>-1.789433e-16</td>\n",
              "      <td>1.634141e-17</td>\n",
              "      <td>3.439699e-16</td>\n",
              "      <td>7.620728e-17</td>\n",
              "      <td>2.335749e-16</td>\n",
              "      <td>-2.606783e-16</td>\n",
              "      <td>-6.580254e-18</td>\n",
              "      <td>1.285770e-16</td>\n",
              "      <td>2.503271e-15</td>\n",
              "      <td>0.033751</td>\n",
              "      <td>-0.302544</td>\n",
              "    </tr>\n",
              "    <tr>\n",
              "      <th>V15</th>\n",
              "      <td>-0.183453</td>\n",
              "      <td>-3.252451e-16</td>\n",
              "      <td>2.831060e-16</td>\n",
              "      <td>1.122756e-16</td>\n",
              "      <td>-1.507718e-16</td>\n",
              "      <td>-5.132620e-16</td>\n",
              "      <td>-6.368111e-18</td>\n",
              "      <td>1.936832e-17</td>\n",
              "      <td>2.021491e-16</td>\n",
              "      <td>-1.588105e-15</td>\n",
              "      <td>7.615272e-16</td>\n",
              "      <td>4.801345e-16</td>\n",
              "      <td>8.858186e-16</td>\n",
              "      <td>-4.728048e-16</td>\n",
              "      <td>4.165738e-17</td>\n",
              "      <td>1.000000e+00</td>\n",
              "      <td>1.335904e-15</td>\n",
              "      <td>3.208310e-16</td>\n",
              "      <td>7.538156e-16</td>\n",
              "      <td>-8.556257e-16</td>\n",
              "      <td>3.240475e-16</td>\n",
              "      <td>1.947458e-17</td>\n",
              "      <td>-8.936817e-16</td>\n",
              "      <td>1.119827e-16</td>\n",
              "      <td>-4.589689e-16</td>\n",
              "      <td>3.869740e-16</td>\n",
              "      <td>3.761094e-16</td>\n",
              "      <td>-1.265235e-15</td>\n",
              "      <td>-1.063286e-15</td>\n",
              "      <td>-0.002986</td>\n",
              "      <td>-0.004223</td>\n",
              "    </tr>\n",
              "    <tr>\n",
              "      <th>V16</th>\n",
              "      <td>0.011903</td>\n",
              "      <td>6.308789e-16</td>\n",
              "      <td>4.934097e-17</td>\n",
              "      <td>1.183364e-15</td>\n",
              "      <td>-6.939204e-16</td>\n",
              "      <td>-3.517076e-16</td>\n",
              "      <td>-2.477917e-16</td>\n",
              "      <td>2.893672e-16</td>\n",
              "      <td>5.027192e-16</td>\n",
              "      <td>-3.251906e-16</td>\n",
              "      <td>-1.705923e-15</td>\n",
              "      <td>-6.173867e-16</td>\n",
              "      <td>3.530418e-16</td>\n",
              "      <td>3.361767e-16</td>\n",
              "      <td>7.910367e-17</td>\n",
              "      <td>1.335904e-15</td>\n",
              "      <td>1.000000e+00</td>\n",
              "      <td>1.854297e-15</td>\n",
              "      <td>-3.015119e-15</td>\n",
              "      <td>1.041659e-15</td>\n",
              "      <td>3.903456e-16</td>\n",
              "      <td>-3.927401e-16</td>\n",
              "      <td>3.878384e-17</td>\n",
              "      <td>8.519670e-16</td>\n",
              "      <td>-4.289239e-16</td>\n",
              "      <td>-6.644104e-16</td>\n",
              "      <td>-5.186503e-16</td>\n",
              "      <td>7.820038e-16</td>\n",
              "      <td>8.637186e-16</td>\n",
              "      <td>-0.003910</td>\n",
              "      <td>-0.196539</td>\n",
              "    </tr>\n",
              "    <tr>\n",
              "      <th>V17</th>\n",
              "      <td>-0.073297</td>\n",
              "      <td>-5.011524e-16</td>\n",
              "      <td>-9.883008e-16</td>\n",
              "      <td>4.576619e-17</td>\n",
              "      <td>-4.397925e-16</td>\n",
              "      <td>1.425729e-16</td>\n",
              "      <td>3.567582e-16</td>\n",
              "      <td>1.149692e-15</td>\n",
              "      <td>-3.508777e-16</td>\n",
              "      <td>6.535992e-16</td>\n",
              "      <td>3.674182e-15</td>\n",
              "      <td>8.719713e-16</td>\n",
              "      <td>-9.869814e-16</td>\n",
              "      <td>-3.187905e-16</td>\n",
              "      <td>4.626140e-15</td>\n",
              "      <td>3.208310e-16</td>\n",
              "      <td>1.854297e-15</td>\n",
              "      <td>1.000000e+00</td>\n",
              "      <td>-5.584714e-15</td>\n",
              "      <td>-3.916791e-16</td>\n",
              "      <td>-9.887431e-16</td>\n",
              "      <td>-7.753967e-16</td>\n",
              "      <td>-8.389703e-16</td>\n",
              "      <td>5.367784e-16</td>\n",
              "      <td>-5.543631e-17</td>\n",
              "      <td>4.822068e-16</td>\n",
              "      <td>4.870302e-16</td>\n",
              "      <td>8.844373e-16</td>\n",
              "      <td>-2.182692e-16</td>\n",
              "      <td>0.007309</td>\n",
              "      <td>-0.326481</td>\n",
              "    </tr>\n",
              "    <tr>\n",
              "      <th>V18</th>\n",
              "      <td>0.090438</td>\n",
              "      <td>2.870125e-16</td>\n",
              "      <td>2.636654e-16</td>\n",
              "      <td>5.427965e-16</td>\n",
              "      <td>1.493667e-16</td>\n",
              "      <td>1.109525e-15</td>\n",
              "      <td>2.811474e-16</td>\n",
              "      <td>-1.116789e-16</td>\n",
              "      <td>-4.093852e-16</td>\n",
              "      <td>1.203843e-16</td>\n",
              "      <td>3.986710e-16</td>\n",
              "      <td>5.978229e-16</td>\n",
              "      <td>-5.881814e-16</td>\n",
              "      <td>3.192535e-16</td>\n",
              "      <td>8.980955e-17</td>\n",
              "      <td>7.538156e-16</td>\n",
              "      <td>-3.015119e-15</td>\n",
              "      <td>-5.584714e-15</td>\n",
              "      <td>1.000000e+00</td>\n",
              "      <td>-2.424185e-15</td>\n",
              "      <td>-4.942764e-16</td>\n",
              "      <td>-1.140973e-15</td>\n",
              "      <td>-8.662635e-17</td>\n",
              "      <td>-3.624236e-16</td>\n",
              "      <td>-1.126043e-16</td>\n",
              "      <td>-2.310856e-16</td>\n",
              "      <td>3.183964e-16</td>\n",
              "      <td>2.435170e-16</td>\n",
              "      <td>8.844995e-16</td>\n",
              "      <td>0.035650</td>\n",
              "      <td>-0.111485</td>\n",
              "    </tr>\n",
              "    <tr>\n",
              "      <th>V19</th>\n",
              "      <td>0.028975</td>\n",
              "      <td>1.818128e-16</td>\n",
              "      <td>9.528280e-17</td>\n",
              "      <td>2.576773e-16</td>\n",
              "      <td>-2.656938e-16</td>\n",
              "      <td>-3.138234e-16</td>\n",
              "      <td>2.717167e-16</td>\n",
              "      <td>-2.874017e-16</td>\n",
              "      <td>-5.339821e-16</td>\n",
              "      <td>1.120752e-16</td>\n",
              "      <td>2.663038e-17</td>\n",
              "      <td>3.216338e-16</td>\n",
              "      <td>9.282566e-17</td>\n",
              "      <td>-2.594988e-16</td>\n",
              "      <td>-1.061486e-16</td>\n",
              "      <td>-8.556257e-16</td>\n",
              "      <td>1.041659e-15</td>\n",
              "      <td>-3.916791e-16</td>\n",
              "      <td>-2.424185e-15</td>\n",
              "      <td>1.000000e+00</td>\n",
              "      <td>2.938450e-16</td>\n",
              "      <td>4.032541e-16</td>\n",
              "      <td>-9.690436e-16</td>\n",
              "      <td>5.733798e-16</td>\n",
              "      <td>3.126716e-17</td>\n",
              "      <td>7.415355e-16</td>\n",
              "      <td>5.614354e-16</td>\n",
              "      <td>-1.113035e-16</td>\n",
              "      <td>-1.375843e-15</td>\n",
              "      <td>-0.056151</td>\n",
              "      <td>0.034783</td>\n",
              "    </tr>\n",
              "    <tr>\n",
              "      <th>V20</th>\n",
              "      <td>-0.050866</td>\n",
              "      <td>1.036959e-16</td>\n",
              "      <td>-9.309954e-16</td>\n",
              "      <td>-9.429297e-16</td>\n",
              "      <td>-3.223123e-16</td>\n",
              "      <td>2.076048e-16</td>\n",
              "      <td>1.898638e-16</td>\n",
              "      <td>1.744242e-16</td>\n",
              "      <td>-1.095534e-16</td>\n",
              "      <td>-4.340941e-16</td>\n",
              "      <td>-1.141888e-15</td>\n",
              "      <td>-2.310189e-16</td>\n",
              "      <td>1.276976e-16</td>\n",
              "      <td>2.345665e-18</td>\n",
              "      <td>-1.789433e-16</td>\n",
              "      <td>3.240475e-16</td>\n",
              "      <td>3.903456e-16</td>\n",
              "      <td>-9.887431e-16</td>\n",
              "      <td>-4.942764e-16</td>\n",
              "      <td>2.938450e-16</td>\n",
              "      <td>1.000000e+00</td>\n",
              "      <td>-1.120828e-15</td>\n",
              "      <td>1.105842e-15</td>\n",
              "      <td>4.986739e-16</td>\n",
              "      <td>1.637488e-16</td>\n",
              "      <td>-1.518242e-16</td>\n",
              "      <td>-2.975081e-16</td>\n",
              "      <td>-1.446069e-15</td>\n",
              "      <td>-1.133579e-16</td>\n",
              "      <td>0.339403</td>\n",
              "      <td>0.020090</td>\n",
              "    </tr>\n",
              "    <tr>\n",
              "      <th>V21</th>\n",
              "      <td>0.044736</td>\n",
              "      <td>-1.755072e-16</td>\n",
              "      <td>8.444409e-17</td>\n",
              "      <td>-2.971969e-17</td>\n",
              "      <td>-9.976950e-17</td>\n",
              "      <td>-1.368701e-16</td>\n",
              "      <td>-1.575903e-16</td>\n",
              "      <td>1.938604e-16</td>\n",
              "      <td>-2.412439e-16</td>\n",
              "      <td>4.578389e-17</td>\n",
              "      <td>8.089504e-16</td>\n",
              "      <td>-3.911893e-16</td>\n",
              "      <td>3.229576e-16</td>\n",
              "      <td>9.499130e-17</td>\n",
              "      <td>1.634141e-17</td>\n",
              "      <td>1.947458e-17</td>\n",
              "      <td>-3.927401e-16</td>\n",
              "      <td>-7.753967e-16</td>\n",
              "      <td>-1.140973e-15</td>\n",
              "      <td>4.032541e-16</td>\n",
              "      <td>-1.120828e-15</td>\n",
              "      <td>1.000000e+00</td>\n",
              "      <td>3.905948e-15</td>\n",
              "      <td>6.127323e-16</td>\n",
              "      <td>1.298254e-16</td>\n",
              "      <td>-2.826293e-16</td>\n",
              "      <td>-4.907301e-16</td>\n",
              "      <td>-1.033403e-15</td>\n",
              "      <td>5.132234e-16</td>\n",
              "      <td>0.105999</td>\n",
              "      <td>0.040413</td>\n",
              "    </tr>\n",
              "    <tr>\n",
              "      <th>V22</th>\n",
              "      <td>0.144059</td>\n",
              "      <td>7.477367e-17</td>\n",
              "      <td>2.500830e-16</td>\n",
              "      <td>4.648259e-16</td>\n",
              "      <td>2.099922e-16</td>\n",
              "      <td>5.060029e-16</td>\n",
              "      <td>-3.362902e-16</td>\n",
              "      <td>-1.058131e-15</td>\n",
              "      <td>5.475559e-16</td>\n",
              "      <td>2.871855e-17</td>\n",
              "      <td>-6.707598e-16</td>\n",
              "      <td>-3.811640e-17</td>\n",
              "      <td>-5.903992e-16</td>\n",
              "      <td>-2.659710e-17</td>\n",
              "      <td>3.439699e-16</td>\n",
              "      <td>-8.936817e-16</td>\n",
              "      <td>3.878384e-17</td>\n",
              "      <td>-8.389703e-16</td>\n",
              "      <td>-8.662635e-17</td>\n",
              "      <td>-9.690436e-16</td>\n",
              "      <td>1.105842e-15</td>\n",
              "      <td>3.905948e-15</td>\n",
              "      <td>1.000000e+00</td>\n",
              "      <td>3.130812e-16</td>\n",
              "      <td>1.150829e-17</td>\n",
              "      <td>-6.078986e-16</td>\n",
              "      <td>-8.477050e-16</td>\n",
              "      <td>-1.294910e-16</td>\n",
              "      <td>-3.021376e-16</td>\n",
              "      <td>-0.064801</td>\n",
              "      <td>0.000805</td>\n",
              "    </tr>\n",
              "    <tr>\n",
              "      <th>V23</th>\n",
              "      <td>0.051142</td>\n",
              "      <td>9.808705e-16</td>\n",
              "      <td>1.059562e-16</td>\n",
              "      <td>2.115206e-17</td>\n",
              "      <td>6.002528e-17</td>\n",
              "      <td>1.637596e-16</td>\n",
              "      <td>-7.232186e-17</td>\n",
              "      <td>2.327911e-16</td>\n",
              "      <td>3.897104e-16</td>\n",
              "      <td>5.929286e-16</td>\n",
              "      <td>3.809732e-16</td>\n",
              "      <td>2.232007e-16</td>\n",
              "      <td>1.392162e-16</td>\n",
              "      <td>-5.884304e-16</td>\n",
              "      <td>7.620728e-17</td>\n",
              "      <td>1.119827e-16</td>\n",
              "      <td>8.519670e-16</td>\n",
              "      <td>5.367784e-16</td>\n",
              "      <td>-3.624236e-16</td>\n",
              "      <td>5.733798e-16</td>\n",
              "      <td>4.986739e-16</td>\n",
              "      <td>6.127323e-16</td>\n",
              "      <td>3.130812e-16</td>\n",
              "      <td>1.000000e+00</td>\n",
              "      <td>-4.411271e-17</td>\n",
              "      <td>-9.938362e-16</td>\n",
              "      <td>8.848700e-16</td>\n",
              "      <td>5.524044e-16</td>\n",
              "      <td>9.029821e-16</td>\n",
              "      <td>-0.112633</td>\n",
              "      <td>-0.002685</td>\n",
              "    </tr>\n",
              "    <tr>\n",
              "      <th>V24</th>\n",
              "      <td>-0.016182</td>\n",
              "      <td>7.354269e-17</td>\n",
              "      <td>-8.142354e-18</td>\n",
              "      <td>-9.351637e-17</td>\n",
              "      <td>2.229738e-16</td>\n",
              "      <td>-9.286095e-16</td>\n",
              "      <td>-1.261867e-15</td>\n",
              "      <td>-2.589727e-17</td>\n",
              "      <td>-1.802967e-16</td>\n",
              "      <td>-2.346385e-16</td>\n",
              "      <td>-4.032806e-17</td>\n",
              "      <td>1.219849e-15</td>\n",
              "      <td>4.901644e-16</td>\n",
              "      <td>-5.470547e-16</td>\n",
              "      <td>2.335749e-16</td>\n",
              "      <td>-4.589689e-16</td>\n",
              "      <td>-4.289239e-16</td>\n",
              "      <td>-5.543631e-17</td>\n",
              "      <td>-1.126043e-16</td>\n",
              "      <td>3.126716e-17</td>\n",
              "      <td>1.637488e-16</td>\n",
              "      <td>1.298254e-16</td>\n",
              "      <td>1.150829e-17</td>\n",
              "      <td>-4.411271e-17</td>\n",
              "      <td>1.000000e+00</td>\n",
              "      <td>1.557318e-15</td>\n",
              "      <td>3.129195e-16</td>\n",
              "      <td>-3.736529e-16</td>\n",
              "      <td>-2.259275e-16</td>\n",
              "      <td>0.005146</td>\n",
              "      <td>-0.007221</td>\n",
              "    </tr>\n",
              "    <tr>\n",
              "      <th>V25</th>\n",
              "      <td>-0.233083</td>\n",
              "      <td>-9.805358e-16</td>\n",
              "      <td>-4.261894e-17</td>\n",
              "      <td>4.771164e-16</td>\n",
              "      <td>5.394585e-16</td>\n",
              "      <td>5.625102e-16</td>\n",
              "      <td>1.081933e-15</td>\n",
              "      <td>1.174169e-15</td>\n",
              "      <td>-1.390791e-16</td>\n",
              "      <td>1.099645e-15</td>\n",
              "      <td>-2.863813e-16</td>\n",
              "      <td>-4.567635e-16</td>\n",
              "      <td>5.053736e-16</td>\n",
              "      <td>8.066738e-17</td>\n",
              "      <td>-2.606783e-16</td>\n",
              "      <td>3.869740e-16</td>\n",
              "      <td>-6.644104e-16</td>\n",
              "      <td>4.822068e-16</td>\n",
              "      <td>-2.310856e-16</td>\n",
              "      <td>7.415355e-16</td>\n",
              "      <td>-1.518242e-16</td>\n",
              "      <td>-2.826293e-16</td>\n",
              "      <td>-6.078986e-16</td>\n",
              "      <td>-9.938362e-16</td>\n",
              "      <td>1.557318e-15</td>\n",
              "      <td>1.000000e+00</td>\n",
              "      <td>2.810884e-15</td>\n",
              "      <td>-6.107118e-16</td>\n",
              "      <td>3.399375e-16</td>\n",
              "      <td>-0.047837</td>\n",
              "      <td>0.003308</td>\n",
              "    </tr>\n",
              "    <tr>\n",
              "      <th>V26</th>\n",
              "      <td>-0.041407</td>\n",
              "      <td>-8.621897e-17</td>\n",
              "      <td>2.601622e-16</td>\n",
              "      <td>6.521501e-16</td>\n",
              "      <td>-6.179751e-16</td>\n",
              "      <td>9.144690e-16</td>\n",
              "      <td>-2.378414e-16</td>\n",
              "      <td>-7.334507e-16</td>\n",
              "      <td>-1.209975e-16</td>\n",
              "      <td>-1.388725e-15</td>\n",
              "      <td>-2.554293e-16</td>\n",
              "      <td>-1.110976e-16</td>\n",
              "      <td>-5.759321e-16</td>\n",
              "      <td>-2.121518e-16</td>\n",
              "      <td>-6.580254e-18</td>\n",
              "      <td>3.761094e-16</td>\n",
              "      <td>-5.186503e-16</td>\n",
              "      <td>4.870302e-16</td>\n",
              "      <td>3.183964e-16</td>\n",
              "      <td>5.614354e-16</td>\n",
              "      <td>-2.975081e-16</td>\n",
              "      <td>-4.907301e-16</td>\n",
              "      <td>-8.477050e-16</td>\n",
              "      <td>8.848700e-16</td>\n",
              "      <td>3.129195e-16</td>\n",
              "      <td>2.810884e-15</td>\n",
              "      <td>1.000000e+00</td>\n",
              "      <td>-3.383861e-16</td>\n",
              "      <td>-3.751403e-16</td>\n",
              "      <td>-0.003208</td>\n",
              "      <td>0.004455</td>\n",
              "    </tr>\n",
              "    <tr>\n",
              "      <th>V27</th>\n",
              "      <td>-0.005135</td>\n",
              "      <td>3.208233e-17</td>\n",
              "      <td>-4.478472e-16</td>\n",
              "      <td>6.239832e-16</td>\n",
              "      <td>-6.403423e-17</td>\n",
              "      <td>4.465960e-16</td>\n",
              "      <td>-2.623818e-16</td>\n",
              "      <td>-5.886825e-16</td>\n",
              "      <td>1.733633e-16</td>\n",
              "      <td>-2.287414e-16</td>\n",
              "      <td>-3.103239e-16</td>\n",
              "      <td>-2.635827e-16</td>\n",
              "      <td>-2.312619e-16</td>\n",
              "      <td>-4.520414e-16</td>\n",
              "      <td>1.285770e-16</td>\n",
              "      <td>-1.265235e-15</td>\n",
              "      <td>7.820038e-16</td>\n",
              "      <td>8.844373e-16</td>\n",
              "      <td>2.435170e-16</td>\n",
              "      <td>-1.113035e-16</td>\n",
              "      <td>-1.446069e-15</td>\n",
              "      <td>-1.033403e-15</td>\n",
              "      <td>-1.294910e-16</td>\n",
              "      <td>5.524044e-16</td>\n",
              "      <td>-3.736529e-16</td>\n",
              "      <td>-6.107118e-16</td>\n",
              "      <td>-3.383861e-16</td>\n",
              "      <td>1.000000e+00</td>\n",
              "      <td>-3.770124e-16</td>\n",
              "      <td>0.028825</td>\n",
              "      <td>0.017580</td>\n",
              "    </tr>\n",
              "    <tr>\n",
              "      <th>V28</th>\n",
              "      <td>-0.009413</td>\n",
              "      <td>9.820892e-16</td>\n",
              "      <td>-3.676415e-16</td>\n",
              "      <td>7.726948e-16</td>\n",
              "      <td>-5.863664e-17</td>\n",
              "      <td>-3.299167e-16</td>\n",
              "      <td>4.813155e-16</td>\n",
              "      <td>-6.836764e-17</td>\n",
              "      <td>-4.484325e-16</td>\n",
              "      <td>9.146779e-16</td>\n",
              "      <td>-1.515934e-16</td>\n",
              "      <td>-3.091914e-16</td>\n",
              "      <td>7.327446e-16</td>\n",
              "      <td>1.049541e-15</td>\n",
              "      <td>2.503271e-15</td>\n",
              "      <td>-1.063286e-15</td>\n",
              "      <td>8.637186e-16</td>\n",
              "      <td>-2.182692e-16</td>\n",
              "      <td>8.844995e-16</td>\n",
              "      <td>-1.375843e-15</td>\n",
              "      <td>-1.133579e-16</td>\n",
              "      <td>5.132234e-16</td>\n",
              "      <td>-3.021376e-16</td>\n",
              "      <td>9.029821e-16</td>\n",
              "      <td>-2.259275e-16</td>\n",
              "      <td>3.399375e-16</td>\n",
              "      <td>-3.751403e-16</td>\n",
              "      <td>-3.770124e-16</td>\n",
              "      <td>1.000000e+00</td>\n",
              "      <td>0.010258</td>\n",
              "      <td>0.009536</td>\n",
              "    </tr>\n",
              "    <tr>\n",
              "      <th>Amount</th>\n",
              "      <td>-0.010596</td>\n",
              "      <td>-2.277087e-01</td>\n",
              "      <td>-5.314089e-01</td>\n",
              "      <td>-2.108805e-01</td>\n",
              "      <td>9.873167e-02</td>\n",
              "      <td>-3.863563e-01</td>\n",
              "      <td>2.159812e-01</td>\n",
              "      <td>3.973113e-01</td>\n",
              "      <td>-1.030791e-01</td>\n",
              "      <td>-4.424560e-02</td>\n",
              "      <td>-1.015021e-01</td>\n",
              "      <td>1.039770e-04</td>\n",
              "      <td>-9.541802e-03</td>\n",
              "      <td>5.293409e-03</td>\n",
              "      <td>3.375117e-02</td>\n",
              "      <td>-2.985848e-03</td>\n",
              "      <td>-3.909527e-03</td>\n",
              "      <td>7.309042e-03</td>\n",
              "      <td>3.565034e-02</td>\n",
              "      <td>-5.615079e-02</td>\n",
              "      <td>3.394034e-01</td>\n",
              "      <td>1.059989e-01</td>\n",
              "      <td>-6.480065e-02</td>\n",
              "      <td>-1.126326e-01</td>\n",
              "      <td>5.146217e-03</td>\n",
              "      <td>-4.783686e-02</td>\n",
              "      <td>-3.208037e-03</td>\n",
              "      <td>2.882546e-02</td>\n",
              "      <td>1.025822e-02</td>\n",
              "      <td>1.000000</td>\n",
              "      <td>0.005632</td>\n",
              "    </tr>\n",
              "    <tr>\n",
              "      <th>Class</th>\n",
              "      <td>-0.012323</td>\n",
              "      <td>-1.013473e-01</td>\n",
              "      <td>9.128865e-02</td>\n",
              "      <td>-1.929608e-01</td>\n",
              "      <td>1.334475e-01</td>\n",
              "      <td>-9.497430e-02</td>\n",
              "      <td>-4.364316e-02</td>\n",
              "      <td>-1.872566e-01</td>\n",
              "      <td>1.987512e-02</td>\n",
              "      <td>-9.773269e-02</td>\n",
              "      <td>-2.168829e-01</td>\n",
              "      <td>1.548756e-01</td>\n",
              "      <td>-2.605929e-01</td>\n",
              "      <td>-4.569779e-03</td>\n",
              "      <td>-3.025437e-01</td>\n",
              "      <td>-4.223402e-03</td>\n",
              "      <td>-1.965389e-01</td>\n",
              "      <td>-3.264811e-01</td>\n",
              "      <td>-1.114853e-01</td>\n",
              "      <td>3.478301e-02</td>\n",
              "      <td>2.009032e-02</td>\n",
              "      <td>4.041338e-02</td>\n",
              "      <td>8.053175e-04</td>\n",
              "      <td>-2.685156e-03</td>\n",
              "      <td>-7.220907e-03</td>\n",
              "      <td>3.307706e-03</td>\n",
              "      <td>4.455398e-03</td>\n",
              "      <td>1.757973e-02</td>\n",
              "      <td>9.536041e-03</td>\n",
              "      <td>0.005632</td>\n",
              "      <td>1.000000</td>\n",
              "    </tr>\n",
              "  </tbody>\n",
              "</table>\n",
              "</div>"
            ],
            "text/plain": [
              "            Time            V1            V2  ...           V28    Amount     Class\n",
              "Time    1.000000  1.173963e-01 -1.059333e-02  ... -9.412688e-03 -0.010596 -0.012323\n",
              "V1      0.117396  1.000000e+00  4.697350e-17  ...  9.820892e-16 -0.227709 -0.101347\n",
              "V2     -0.010593  4.697350e-17  1.000000e+00  ... -3.676415e-16 -0.531409  0.091289\n",
              "V3     -0.419618 -1.424390e-15  2.512175e-16  ...  7.726948e-16 -0.210880 -0.192961\n",
              "V4     -0.105260  1.755316e-17 -1.126388e-16  ... -5.863664e-17  0.098732  0.133447\n",
              "V5      0.173072  6.391162e-17 -2.039868e-16  ... -3.299167e-16 -0.386356 -0.094974\n",
              "V6     -0.063016  2.398071e-16  5.024680e-16  ...  4.813155e-16  0.215981 -0.043643\n",
              "V7      0.084714  1.991550e-15  3.966486e-16  ... -6.836764e-17  0.397311 -0.187257\n",
              "V8     -0.036949 -9.490675e-17 -4.413984e-17  ... -4.484325e-16 -0.103079  0.019875\n",
              "V9     -0.008660  2.169581e-16 -5.728718e-17  ...  9.146779e-16 -0.044246 -0.097733\n",
              "V10     0.030617  7.433820e-17 -4.782388e-16  ... -1.515934e-16 -0.101502 -0.216883\n",
              "V11    -0.247689  2.438580e-16  9.468995e-16  ... -3.091914e-16  0.000104  0.154876\n",
              "V12     0.124348  2.422086e-16 -6.588252e-16  ...  7.327446e-16 -0.009542 -0.260593\n",
              "V13    -0.065902 -2.115458e-16  3.854521e-16  ...  1.049541e-15  0.005293 -0.004570\n",
              "V14    -0.098757  9.352582e-16 -2.541036e-16  ...  2.503271e-15  0.033751 -0.302544\n",
              "V15    -0.183453 -3.252451e-16  2.831060e-16  ... -1.063286e-15 -0.002986 -0.004223\n",
              "V16     0.011903  6.308789e-16  4.934097e-17  ...  8.637186e-16 -0.003910 -0.196539\n",
              "V17    -0.073297 -5.011524e-16 -9.883008e-16  ... -2.182692e-16  0.007309 -0.326481\n",
              "V18     0.090438  2.870125e-16  2.636654e-16  ...  8.844995e-16  0.035650 -0.111485\n",
              "V19     0.028975  1.818128e-16  9.528280e-17  ... -1.375843e-15 -0.056151  0.034783\n",
              "V20    -0.050866  1.036959e-16 -9.309954e-16  ... -1.133579e-16  0.339403  0.020090\n",
              "V21     0.044736 -1.755072e-16  8.444409e-17  ...  5.132234e-16  0.105999  0.040413\n",
              "V22     0.144059  7.477367e-17  2.500830e-16  ... -3.021376e-16 -0.064801  0.000805\n",
              "V23     0.051142  9.808705e-16  1.059562e-16  ...  9.029821e-16 -0.112633 -0.002685\n",
              "V24    -0.016182  7.354269e-17 -8.142354e-18  ... -2.259275e-16  0.005146 -0.007221\n",
              "V25    -0.233083 -9.805358e-16 -4.261894e-17  ...  3.399375e-16 -0.047837  0.003308\n",
              "V26    -0.041407 -8.621897e-17  2.601622e-16  ... -3.751403e-16 -0.003208  0.004455\n",
              "V27    -0.005135  3.208233e-17 -4.478472e-16  ... -3.770124e-16  0.028825  0.017580\n",
              "V28    -0.009413  9.820892e-16 -3.676415e-16  ...  1.000000e+00  0.010258  0.009536\n",
              "Amount -0.010596 -2.277087e-01 -5.314089e-01  ...  1.025822e-02  1.000000  0.005632\n",
              "Class  -0.012323 -1.013473e-01  9.128865e-02  ...  9.536041e-03  0.005632  1.000000\n",
              "\n",
              "[31 rows x 31 columns]"
            ]
          },
          "metadata": {
            "tags": []
          },
          "execution_count": 13
        }
      ]
    },
    {
      "cell_type": "code",
      "metadata": {
        "colab": {
          "base_uri": "https://localhost:8080/"
        },
        "id": "9YCAOJWhchYV",
        "outputId": "34ea0bef-876f-49b9-afeb-1fa76399a31e"
      },
      "source": [
        "#* Explorando correlações - Class\n",
        "df.corr()['Class'].sort_values(ascending=False)"
      ],
      "execution_count": null,
      "outputs": [
        {
          "output_type": "execute_result",
          "data": {
            "text/plain": [
              "Class     1.000000\n",
              "V11       0.154876\n",
              "V4        0.133447\n",
              "V2        0.091289\n",
              "V21       0.040413\n",
              "V19       0.034783\n",
              "V20       0.020090\n",
              "V8        0.019875\n",
              "V27       0.017580\n",
              "V28       0.009536\n",
              "Amount    0.005632\n",
              "V26       0.004455\n",
              "V25       0.003308\n",
              "V22       0.000805\n",
              "V23      -0.002685\n",
              "V15      -0.004223\n",
              "V13      -0.004570\n",
              "V24      -0.007221\n",
              "Time     -0.012323\n",
              "V6       -0.043643\n",
              "V5       -0.094974\n",
              "V9       -0.097733\n",
              "V1       -0.101347\n",
              "V18      -0.111485\n",
              "V7       -0.187257\n",
              "V3       -0.192961\n",
              "V16      -0.196539\n",
              "V10      -0.216883\n",
              "V12      -0.260593\n",
              "V14      -0.302544\n",
              "V17      -0.326481\n",
              "Name: Class, dtype: float64"
            ]
          },
          "metadata": {
            "tags": []
          },
          "execution_count": 14
        }
      ]
    },
    {
      "cell_type": "code",
      "metadata": {
        "colab": {
          "base_uri": "https://localhost:8080/",
          "height": 306
        },
        "id": "JlZGRN4AFPD0",
        "outputId": "ef40d748-d7b2-4b5d-9a41-f0d477176f0d"
      },
      "source": [
        "df.describe()"
      ],
      "execution_count": null,
      "outputs": [
        {
          "output_type": "execute_result",
          "data": {
            "text/html": [
              "<div>\n",
              "<style scoped>\n",
              "    .dataframe tbody tr th:only-of-type {\n",
              "        vertical-align: middle;\n",
              "    }\n",
              "\n",
              "    .dataframe tbody tr th {\n",
              "        vertical-align: top;\n",
              "    }\n",
              "\n",
              "    .dataframe thead th {\n",
              "        text-align: right;\n",
              "    }\n",
              "</style>\n",
              "<table border=\"1\" class=\"dataframe\">\n",
              "  <thead>\n",
              "    <tr style=\"text-align: right;\">\n",
              "      <th></th>\n",
              "      <th>Time</th>\n",
              "      <th>V1</th>\n",
              "      <th>V2</th>\n",
              "      <th>V3</th>\n",
              "      <th>V4</th>\n",
              "      <th>V5</th>\n",
              "      <th>V6</th>\n",
              "      <th>V7</th>\n",
              "      <th>V8</th>\n",
              "      <th>V9</th>\n",
              "      <th>V10</th>\n",
              "      <th>V11</th>\n",
              "      <th>V12</th>\n",
              "      <th>V13</th>\n",
              "      <th>V14</th>\n",
              "      <th>V15</th>\n",
              "      <th>V16</th>\n",
              "      <th>V17</th>\n",
              "      <th>V18</th>\n",
              "      <th>V19</th>\n",
              "      <th>V20</th>\n",
              "      <th>V21</th>\n",
              "      <th>V22</th>\n",
              "      <th>V23</th>\n",
              "      <th>V24</th>\n",
              "      <th>V25</th>\n",
              "      <th>V26</th>\n",
              "      <th>V27</th>\n",
              "      <th>V28</th>\n",
              "      <th>Amount</th>\n",
              "      <th>Class</th>\n",
              "    </tr>\n",
              "  </thead>\n",
              "  <tbody>\n",
              "    <tr>\n",
              "      <th>count</th>\n",
              "      <td>284807.000000</td>\n",
              "      <td>2.848070e+05</td>\n",
              "      <td>2.848070e+05</td>\n",
              "      <td>2.848070e+05</td>\n",
              "      <td>2.848070e+05</td>\n",
              "      <td>2.848070e+05</td>\n",
              "      <td>2.848070e+05</td>\n",
              "      <td>2.848070e+05</td>\n",
              "      <td>2.848070e+05</td>\n",
              "      <td>2.848070e+05</td>\n",
              "      <td>2.848070e+05</td>\n",
              "      <td>2.848070e+05</td>\n",
              "      <td>2.848070e+05</td>\n",
              "      <td>2.848070e+05</td>\n",
              "      <td>2.848070e+05</td>\n",
              "      <td>2.848070e+05</td>\n",
              "      <td>2.848070e+05</td>\n",
              "      <td>2.848070e+05</td>\n",
              "      <td>2.848070e+05</td>\n",
              "      <td>2.848070e+05</td>\n",
              "      <td>2.848070e+05</td>\n",
              "      <td>2.848070e+05</td>\n",
              "      <td>2.848070e+05</td>\n",
              "      <td>2.848070e+05</td>\n",
              "      <td>2.848070e+05</td>\n",
              "      <td>2.848070e+05</td>\n",
              "      <td>2.848070e+05</td>\n",
              "      <td>2.848070e+05</td>\n",
              "      <td>2.848070e+05</td>\n",
              "      <td>284807.000000</td>\n",
              "      <td>284807.000000</td>\n",
              "    </tr>\n",
              "    <tr>\n",
              "      <th>mean</th>\n",
              "      <td>94813.859575</td>\n",
              "      <td>3.919560e-15</td>\n",
              "      <td>5.688174e-16</td>\n",
              "      <td>-8.769071e-15</td>\n",
              "      <td>2.782312e-15</td>\n",
              "      <td>-1.552563e-15</td>\n",
              "      <td>2.010663e-15</td>\n",
              "      <td>-1.694249e-15</td>\n",
              "      <td>-1.927028e-16</td>\n",
              "      <td>-3.137024e-15</td>\n",
              "      <td>1.768627e-15</td>\n",
              "      <td>9.170318e-16</td>\n",
              "      <td>-1.810658e-15</td>\n",
              "      <td>1.693438e-15</td>\n",
              "      <td>1.479045e-15</td>\n",
              "      <td>3.482336e-15</td>\n",
              "      <td>1.392007e-15</td>\n",
              "      <td>-7.528491e-16</td>\n",
              "      <td>4.328772e-16</td>\n",
              "      <td>9.049732e-16</td>\n",
              "      <td>5.085503e-16</td>\n",
              "      <td>1.537294e-16</td>\n",
              "      <td>7.959909e-16</td>\n",
              "      <td>5.367590e-16</td>\n",
              "      <td>4.458112e-15</td>\n",
              "      <td>1.453003e-15</td>\n",
              "      <td>1.699104e-15</td>\n",
              "      <td>-3.660161e-16</td>\n",
              "      <td>-1.206049e-16</td>\n",
              "      <td>88.349619</td>\n",
              "      <td>0.001727</td>\n",
              "    </tr>\n",
              "    <tr>\n",
              "      <th>std</th>\n",
              "      <td>47488.145955</td>\n",
              "      <td>1.958696e+00</td>\n",
              "      <td>1.651309e+00</td>\n",
              "      <td>1.516255e+00</td>\n",
              "      <td>1.415869e+00</td>\n",
              "      <td>1.380247e+00</td>\n",
              "      <td>1.332271e+00</td>\n",
              "      <td>1.237094e+00</td>\n",
              "      <td>1.194353e+00</td>\n",
              "      <td>1.098632e+00</td>\n",
              "      <td>1.088850e+00</td>\n",
              "      <td>1.020713e+00</td>\n",
              "      <td>9.992014e-01</td>\n",
              "      <td>9.952742e-01</td>\n",
              "      <td>9.585956e-01</td>\n",
              "      <td>9.153160e-01</td>\n",
              "      <td>8.762529e-01</td>\n",
              "      <td>8.493371e-01</td>\n",
              "      <td>8.381762e-01</td>\n",
              "      <td>8.140405e-01</td>\n",
              "      <td>7.709250e-01</td>\n",
              "      <td>7.345240e-01</td>\n",
              "      <td>7.257016e-01</td>\n",
              "      <td>6.244603e-01</td>\n",
              "      <td>6.056471e-01</td>\n",
              "      <td>5.212781e-01</td>\n",
              "      <td>4.822270e-01</td>\n",
              "      <td>4.036325e-01</td>\n",
              "      <td>3.300833e-01</td>\n",
              "      <td>250.120109</td>\n",
              "      <td>0.041527</td>\n",
              "    </tr>\n",
              "    <tr>\n",
              "      <th>min</th>\n",
              "      <td>0.000000</td>\n",
              "      <td>-5.640751e+01</td>\n",
              "      <td>-7.271573e+01</td>\n",
              "      <td>-4.832559e+01</td>\n",
              "      <td>-5.683171e+00</td>\n",
              "      <td>-1.137433e+02</td>\n",
              "      <td>-2.616051e+01</td>\n",
              "      <td>-4.355724e+01</td>\n",
              "      <td>-7.321672e+01</td>\n",
              "      <td>-1.343407e+01</td>\n",
              "      <td>-2.458826e+01</td>\n",
              "      <td>-4.797473e+00</td>\n",
              "      <td>-1.868371e+01</td>\n",
              "      <td>-5.791881e+00</td>\n",
              "      <td>-1.921433e+01</td>\n",
              "      <td>-4.498945e+00</td>\n",
              "      <td>-1.412985e+01</td>\n",
              "      <td>-2.516280e+01</td>\n",
              "      <td>-9.498746e+00</td>\n",
              "      <td>-7.213527e+00</td>\n",
              "      <td>-5.449772e+01</td>\n",
              "      <td>-3.483038e+01</td>\n",
              "      <td>-1.093314e+01</td>\n",
              "      <td>-4.480774e+01</td>\n",
              "      <td>-2.836627e+00</td>\n",
              "      <td>-1.029540e+01</td>\n",
              "      <td>-2.604551e+00</td>\n",
              "      <td>-2.256568e+01</td>\n",
              "      <td>-1.543008e+01</td>\n",
              "      <td>0.000000</td>\n",
              "      <td>0.000000</td>\n",
              "    </tr>\n",
              "    <tr>\n",
              "      <th>25%</th>\n",
              "      <td>54201.500000</td>\n",
              "      <td>-9.203734e-01</td>\n",
              "      <td>-5.985499e-01</td>\n",
              "      <td>-8.903648e-01</td>\n",
              "      <td>-8.486401e-01</td>\n",
              "      <td>-6.915971e-01</td>\n",
              "      <td>-7.682956e-01</td>\n",
              "      <td>-5.540759e-01</td>\n",
              "      <td>-2.086297e-01</td>\n",
              "      <td>-6.430976e-01</td>\n",
              "      <td>-5.354257e-01</td>\n",
              "      <td>-7.624942e-01</td>\n",
              "      <td>-4.055715e-01</td>\n",
              "      <td>-6.485393e-01</td>\n",
              "      <td>-4.255740e-01</td>\n",
              "      <td>-5.828843e-01</td>\n",
              "      <td>-4.680368e-01</td>\n",
              "      <td>-4.837483e-01</td>\n",
              "      <td>-4.988498e-01</td>\n",
              "      <td>-4.562989e-01</td>\n",
              "      <td>-2.117214e-01</td>\n",
              "      <td>-2.283949e-01</td>\n",
              "      <td>-5.423504e-01</td>\n",
              "      <td>-1.618463e-01</td>\n",
              "      <td>-3.545861e-01</td>\n",
              "      <td>-3.171451e-01</td>\n",
              "      <td>-3.269839e-01</td>\n",
              "      <td>-7.083953e-02</td>\n",
              "      <td>-5.295979e-02</td>\n",
              "      <td>5.600000</td>\n",
              "      <td>0.000000</td>\n",
              "    </tr>\n",
              "    <tr>\n",
              "      <th>50%</th>\n",
              "      <td>84692.000000</td>\n",
              "      <td>1.810880e-02</td>\n",
              "      <td>6.548556e-02</td>\n",
              "      <td>1.798463e-01</td>\n",
              "      <td>-1.984653e-02</td>\n",
              "      <td>-5.433583e-02</td>\n",
              "      <td>-2.741871e-01</td>\n",
              "      <td>4.010308e-02</td>\n",
              "      <td>2.235804e-02</td>\n",
              "      <td>-5.142873e-02</td>\n",
              "      <td>-9.291738e-02</td>\n",
              "      <td>-3.275735e-02</td>\n",
              "      <td>1.400326e-01</td>\n",
              "      <td>-1.356806e-02</td>\n",
              "      <td>5.060132e-02</td>\n",
              "      <td>4.807155e-02</td>\n",
              "      <td>6.641332e-02</td>\n",
              "      <td>-6.567575e-02</td>\n",
              "      <td>-3.636312e-03</td>\n",
              "      <td>3.734823e-03</td>\n",
              "      <td>-6.248109e-02</td>\n",
              "      <td>-2.945017e-02</td>\n",
              "      <td>6.781943e-03</td>\n",
              "      <td>-1.119293e-02</td>\n",
              "      <td>4.097606e-02</td>\n",
              "      <td>1.659350e-02</td>\n",
              "      <td>-5.213911e-02</td>\n",
              "      <td>1.342146e-03</td>\n",
              "      <td>1.124383e-02</td>\n",
              "      <td>22.000000</td>\n",
              "      <td>0.000000</td>\n",
              "    </tr>\n",
              "    <tr>\n",
              "      <th>75%</th>\n",
              "      <td>139320.500000</td>\n",
              "      <td>1.315642e+00</td>\n",
              "      <td>8.037239e-01</td>\n",
              "      <td>1.027196e+00</td>\n",
              "      <td>7.433413e-01</td>\n",
              "      <td>6.119264e-01</td>\n",
              "      <td>3.985649e-01</td>\n",
              "      <td>5.704361e-01</td>\n",
              "      <td>3.273459e-01</td>\n",
              "      <td>5.971390e-01</td>\n",
              "      <td>4.539234e-01</td>\n",
              "      <td>7.395934e-01</td>\n",
              "      <td>6.182380e-01</td>\n",
              "      <td>6.625050e-01</td>\n",
              "      <td>4.931498e-01</td>\n",
              "      <td>6.488208e-01</td>\n",
              "      <td>5.232963e-01</td>\n",
              "      <td>3.996750e-01</td>\n",
              "      <td>5.008067e-01</td>\n",
              "      <td>4.589494e-01</td>\n",
              "      <td>1.330408e-01</td>\n",
              "      <td>1.863772e-01</td>\n",
              "      <td>5.285536e-01</td>\n",
              "      <td>1.476421e-01</td>\n",
              "      <td>4.395266e-01</td>\n",
              "      <td>3.507156e-01</td>\n",
              "      <td>2.409522e-01</td>\n",
              "      <td>9.104512e-02</td>\n",
              "      <td>7.827995e-02</td>\n",
              "      <td>77.165000</td>\n",
              "      <td>0.000000</td>\n",
              "    </tr>\n",
              "    <tr>\n",
              "      <th>max</th>\n",
              "      <td>172792.000000</td>\n",
              "      <td>2.454930e+00</td>\n",
              "      <td>2.205773e+01</td>\n",
              "      <td>9.382558e+00</td>\n",
              "      <td>1.687534e+01</td>\n",
              "      <td>3.480167e+01</td>\n",
              "      <td>7.330163e+01</td>\n",
              "      <td>1.205895e+02</td>\n",
              "      <td>2.000721e+01</td>\n",
              "      <td>1.559499e+01</td>\n",
              "      <td>2.374514e+01</td>\n",
              "      <td>1.201891e+01</td>\n",
              "      <td>7.848392e+00</td>\n",
              "      <td>7.126883e+00</td>\n",
              "      <td>1.052677e+01</td>\n",
              "      <td>8.877742e+00</td>\n",
              "      <td>1.731511e+01</td>\n",
              "      <td>9.253526e+00</td>\n",
              "      <td>5.041069e+00</td>\n",
              "      <td>5.591971e+00</td>\n",
              "      <td>3.942090e+01</td>\n",
              "      <td>2.720284e+01</td>\n",
              "      <td>1.050309e+01</td>\n",
              "      <td>2.252841e+01</td>\n",
              "      <td>4.584549e+00</td>\n",
              "      <td>7.519589e+00</td>\n",
              "      <td>3.517346e+00</td>\n",
              "      <td>3.161220e+01</td>\n",
              "      <td>3.384781e+01</td>\n",
              "      <td>25691.160000</td>\n",
              "      <td>1.000000</td>\n",
              "    </tr>\n",
              "  </tbody>\n",
              "</table>\n",
              "</div>"
            ],
            "text/plain": [
              "                Time            V1  ...         Amount          Class\n",
              "count  284807.000000  2.848070e+05  ...  284807.000000  284807.000000\n",
              "mean    94813.859575  3.919560e-15  ...      88.349619       0.001727\n",
              "std     47488.145955  1.958696e+00  ...     250.120109       0.041527\n",
              "min         0.000000 -5.640751e+01  ...       0.000000       0.000000\n",
              "25%     54201.500000 -9.203734e-01  ...       5.600000       0.000000\n",
              "50%     84692.000000  1.810880e-02  ...      22.000000       0.000000\n",
              "75%    139320.500000  1.315642e+00  ...      77.165000       0.000000\n",
              "max    172792.000000  2.454930e+00  ...   25691.160000       1.000000\n",
              "\n",
              "[8 rows x 31 columns]"
            ]
          },
          "metadata": {
            "tags": []
          },
          "execution_count": 15
        }
      ]
    },
    {
      "cell_type": "code",
      "metadata": {
        "id": "ktXi2QXKpRok"
      },
      "source": [
        "df['Amount'].groupby(df['Class']).sum().round()"
      ],
      "execution_count": null,
      "outputs": []
    },
    {
      "cell_type": "code",
      "metadata": {
        "colab": {
          "base_uri": "https://localhost:8080/"
        },
        "id": "h0RBUoKtLxUi",
        "outputId": "d41913a5-82b4-49a0-ecba-d8891174d34f"
      },
      "source": [
        "df.duplicated().sum()"
      ],
      "execution_count": null,
      "outputs": [
        {
          "output_type": "execute_result",
          "data": {
            "text/plain": [
              "1081"
            ]
          },
          "metadata": {
            "tags": []
          },
          "execution_count": 16
        }
      ]
    },
    {
      "cell_type": "code",
      "metadata": {
        "colab": {
          "base_uri": "https://localhost:8080/",
          "height": 614
        },
        "id": "gb5y9RtrITVt",
        "outputId": "df824d71-1609-4a3e-e14a-9967e9767666"
      },
      "source": [
        "df[df.duplicated() & df.Class==1]"
      ],
      "execution_count": null,
      "outputs": [
        {
          "output_type": "execute_result",
          "data": {
            "text/html": [
              "<div>\n",
              "<style scoped>\n",
              "    .dataframe tbody tr th:only-of-type {\n",
              "        vertical-align: middle;\n",
              "    }\n",
              "\n",
              "    .dataframe tbody tr th {\n",
              "        vertical-align: top;\n",
              "    }\n",
              "\n",
              "    .dataframe thead th {\n",
              "        text-align: right;\n",
              "    }\n",
              "</style>\n",
              "<table border=\"1\" class=\"dataframe\">\n",
              "  <thead>\n",
              "    <tr style=\"text-align: right;\">\n",
              "      <th></th>\n",
              "      <th>Time</th>\n",
              "      <th>V1</th>\n",
              "      <th>V2</th>\n",
              "      <th>V3</th>\n",
              "      <th>V4</th>\n",
              "      <th>V5</th>\n",
              "      <th>V6</th>\n",
              "      <th>V7</th>\n",
              "      <th>V8</th>\n",
              "      <th>V9</th>\n",
              "      <th>V10</th>\n",
              "      <th>V11</th>\n",
              "      <th>V12</th>\n",
              "      <th>V13</th>\n",
              "      <th>V14</th>\n",
              "      <th>V15</th>\n",
              "      <th>V16</th>\n",
              "      <th>V17</th>\n",
              "      <th>V18</th>\n",
              "      <th>V19</th>\n",
              "      <th>V20</th>\n",
              "      <th>V21</th>\n",
              "      <th>V22</th>\n",
              "      <th>V23</th>\n",
              "      <th>V24</th>\n",
              "      <th>V25</th>\n",
              "      <th>V26</th>\n",
              "      <th>V27</th>\n",
              "      <th>V28</th>\n",
              "      <th>Amount</th>\n",
              "      <th>Class</th>\n",
              "    </tr>\n",
              "  </thead>\n",
              "  <tbody>\n",
              "    <tr>\n",
              "      <th>102442</th>\n",
              "      <td>68207.0</td>\n",
              "      <td>-13.192671</td>\n",
              "      <td>12.785971</td>\n",
              "      <td>-9.906650</td>\n",
              "      <td>3.320337</td>\n",
              "      <td>-4.801176</td>\n",
              "      <td>5.760059</td>\n",
              "      <td>-18.750889</td>\n",
              "      <td>-37.353443</td>\n",
              "      <td>-0.391540</td>\n",
              "      <td>-5.052502</td>\n",
              "      <td>4.406806</td>\n",
              "      <td>-4.610756</td>\n",
              "      <td>-1.909488</td>\n",
              "      <td>-9.072711</td>\n",
              "      <td>-0.226074</td>\n",
              "      <td>-6.211557</td>\n",
              "      <td>-6.248145</td>\n",
              "      <td>-3.149247</td>\n",
              "      <td>0.051576</td>\n",
              "      <td>-3.493050</td>\n",
              "      <td>27.202839</td>\n",
              "      <td>-8.887017</td>\n",
              "      <td>5.303607</td>\n",
              "      <td>-0.639435</td>\n",
              "      <td>0.263203</td>\n",
              "      <td>-0.108877</td>\n",
              "      <td>1.269566</td>\n",
              "      <td>0.939407</td>\n",
              "      <td>1.00</td>\n",
              "      <td>1</td>\n",
              "    </tr>\n",
              "    <tr>\n",
              "      <th>102443</th>\n",
              "      <td>68207.0</td>\n",
              "      <td>-13.192671</td>\n",
              "      <td>12.785971</td>\n",
              "      <td>-9.906650</td>\n",
              "      <td>3.320337</td>\n",
              "      <td>-4.801176</td>\n",
              "      <td>5.760059</td>\n",
              "      <td>-18.750889</td>\n",
              "      <td>-37.353443</td>\n",
              "      <td>-0.391540</td>\n",
              "      <td>-5.052502</td>\n",
              "      <td>4.406806</td>\n",
              "      <td>-4.610756</td>\n",
              "      <td>-1.909488</td>\n",
              "      <td>-9.072711</td>\n",
              "      <td>-0.226074</td>\n",
              "      <td>-6.211557</td>\n",
              "      <td>-6.248145</td>\n",
              "      <td>-3.149247</td>\n",
              "      <td>0.051576</td>\n",
              "      <td>-3.493050</td>\n",
              "      <td>27.202839</td>\n",
              "      <td>-8.887017</td>\n",
              "      <td>5.303607</td>\n",
              "      <td>-0.639435</td>\n",
              "      <td>0.263203</td>\n",
              "      <td>-0.108877</td>\n",
              "      <td>1.269566</td>\n",
              "      <td>0.939407</td>\n",
              "      <td>1.00</td>\n",
              "      <td>1</td>\n",
              "    </tr>\n",
              "    <tr>\n",
              "      <th>102444</th>\n",
              "      <td>68207.0</td>\n",
              "      <td>-13.192671</td>\n",
              "      <td>12.785971</td>\n",
              "      <td>-9.906650</td>\n",
              "      <td>3.320337</td>\n",
              "      <td>-4.801176</td>\n",
              "      <td>5.760059</td>\n",
              "      <td>-18.750889</td>\n",
              "      <td>-37.353443</td>\n",
              "      <td>-0.391540</td>\n",
              "      <td>-5.052502</td>\n",
              "      <td>4.406806</td>\n",
              "      <td>-4.610756</td>\n",
              "      <td>-1.909488</td>\n",
              "      <td>-9.072711</td>\n",
              "      <td>-0.226074</td>\n",
              "      <td>-6.211557</td>\n",
              "      <td>-6.248145</td>\n",
              "      <td>-3.149247</td>\n",
              "      <td>0.051576</td>\n",
              "      <td>-3.493050</td>\n",
              "      <td>27.202839</td>\n",
              "      <td>-8.887017</td>\n",
              "      <td>5.303607</td>\n",
              "      <td>-0.639435</td>\n",
              "      <td>0.263203</td>\n",
              "      <td>-0.108877</td>\n",
              "      <td>1.269566</td>\n",
              "      <td>0.939407</td>\n",
              "      <td>1.00</td>\n",
              "      <td>1</td>\n",
              "    </tr>\n",
              "    <tr>\n",
              "      <th>102445</th>\n",
              "      <td>68207.0</td>\n",
              "      <td>-13.192671</td>\n",
              "      <td>12.785971</td>\n",
              "      <td>-9.906650</td>\n",
              "      <td>3.320337</td>\n",
              "      <td>-4.801176</td>\n",
              "      <td>5.760059</td>\n",
              "      <td>-18.750889</td>\n",
              "      <td>-37.353443</td>\n",
              "      <td>-0.391540</td>\n",
              "      <td>-5.052502</td>\n",
              "      <td>4.406806</td>\n",
              "      <td>-4.610756</td>\n",
              "      <td>-1.909488</td>\n",
              "      <td>-9.072711</td>\n",
              "      <td>-0.226074</td>\n",
              "      <td>-6.211557</td>\n",
              "      <td>-6.248145</td>\n",
              "      <td>-3.149247</td>\n",
              "      <td>0.051576</td>\n",
              "      <td>-3.493050</td>\n",
              "      <td>27.202839</td>\n",
              "      <td>-8.887017</td>\n",
              "      <td>5.303607</td>\n",
              "      <td>-0.639435</td>\n",
              "      <td>0.263203</td>\n",
              "      <td>-0.108877</td>\n",
              "      <td>1.269566</td>\n",
              "      <td>0.939407</td>\n",
              "      <td>1.00</td>\n",
              "      <td>1</td>\n",
              "    </tr>\n",
              "    <tr>\n",
              "      <th>102446</th>\n",
              "      <td>68207.0</td>\n",
              "      <td>-13.192671</td>\n",
              "      <td>12.785971</td>\n",
              "      <td>-9.906650</td>\n",
              "      <td>3.320337</td>\n",
              "      <td>-4.801176</td>\n",
              "      <td>5.760059</td>\n",
              "      <td>-18.750889</td>\n",
              "      <td>-37.353443</td>\n",
              "      <td>-0.391540</td>\n",
              "      <td>-5.052502</td>\n",
              "      <td>4.406806</td>\n",
              "      <td>-4.610756</td>\n",
              "      <td>-1.909488</td>\n",
              "      <td>-9.072711</td>\n",
              "      <td>-0.226074</td>\n",
              "      <td>-6.211557</td>\n",
              "      <td>-6.248145</td>\n",
              "      <td>-3.149247</td>\n",
              "      <td>0.051576</td>\n",
              "      <td>-3.493050</td>\n",
              "      <td>27.202839</td>\n",
              "      <td>-8.887017</td>\n",
              "      <td>5.303607</td>\n",
              "      <td>-0.639435</td>\n",
              "      <td>0.263203</td>\n",
              "      <td>-0.108877</td>\n",
              "      <td>1.269566</td>\n",
              "      <td>0.939407</td>\n",
              "      <td>1.00</td>\n",
              "      <td>1</td>\n",
              "    </tr>\n",
              "    <tr>\n",
              "      <th>141258</th>\n",
              "      <td>84204.0</td>\n",
              "      <td>-0.937843</td>\n",
              "      <td>3.462889</td>\n",
              "      <td>-6.445104</td>\n",
              "      <td>4.932199</td>\n",
              "      <td>-2.233983</td>\n",
              "      <td>-2.291561</td>\n",
              "      <td>-5.695594</td>\n",
              "      <td>1.338825</td>\n",
              "      <td>-4.322377</td>\n",
              "      <td>-8.099119</td>\n",
              "      <td>7.182967</td>\n",
              "      <td>-9.445943</td>\n",
              "      <td>-0.314620</td>\n",
              "      <td>-12.991466</td>\n",
              "      <td>-0.136359</td>\n",
              "      <td>-6.367524</td>\n",
              "      <td>-12.734394</td>\n",
              "      <td>-3.845130</td>\n",
              "      <td>1.007667</td>\n",
              "      <td>1.129532</td>\n",
              "      <td>1.066550</td>\n",
              "      <td>-0.521657</td>\n",
              "      <td>-0.319917</td>\n",
              "      <td>-0.405859</td>\n",
              "      <td>0.906802</td>\n",
              "      <td>1.165784</td>\n",
              "      <td>1.374495</td>\n",
              "      <td>0.729889</td>\n",
              "      <td>0.00</td>\n",
              "      <td>1</td>\n",
              "    </tr>\n",
              "    <tr>\n",
              "      <th>141260</th>\n",
              "      <td>84204.0</td>\n",
              "      <td>-1.927453</td>\n",
              "      <td>1.827621</td>\n",
              "      <td>-7.019495</td>\n",
              "      <td>5.348303</td>\n",
              "      <td>-2.739188</td>\n",
              "      <td>-2.107219</td>\n",
              "      <td>-5.015848</td>\n",
              "      <td>1.205868</td>\n",
              "      <td>-4.382713</td>\n",
              "      <td>-8.337707</td>\n",
              "      <td>7.190306</td>\n",
              "      <td>-9.424844</td>\n",
              "      <td>-0.223293</td>\n",
              "      <td>-12.875494</td>\n",
              "      <td>-0.071918</td>\n",
              "      <td>-6.299961</td>\n",
              "      <td>-12.719207</td>\n",
              "      <td>-3.740176</td>\n",
              "      <td>0.844060</td>\n",
              "      <td>2.172709</td>\n",
              "      <td>1.376938</td>\n",
              "      <td>-0.792017</td>\n",
              "      <td>-0.771414</td>\n",
              "      <td>-0.379574</td>\n",
              "      <td>0.718717</td>\n",
              "      <td>1.111151</td>\n",
              "      <td>1.277707</td>\n",
              "      <td>0.819081</td>\n",
              "      <td>512.25</td>\n",
              "      <td>1</td>\n",
              "    </tr>\n",
              "    <tr>\n",
              "      <th>143334</th>\n",
              "      <td>85285.0</td>\n",
              "      <td>-7.030308</td>\n",
              "      <td>3.421991</td>\n",
              "      <td>-9.525072</td>\n",
              "      <td>5.270891</td>\n",
              "      <td>-4.024630</td>\n",
              "      <td>-2.865682</td>\n",
              "      <td>-6.989195</td>\n",
              "      <td>3.791551</td>\n",
              "      <td>-4.622730</td>\n",
              "      <td>-8.409665</td>\n",
              "      <td>6.309044</td>\n",
              "      <td>-8.576761</td>\n",
              "      <td>0.246747</td>\n",
              "      <td>-11.534046</td>\n",
              "      <td>-0.364265</td>\n",
              "      <td>-5.452495</td>\n",
              "      <td>-11.887570</td>\n",
              "      <td>-3.563585</td>\n",
              "      <td>0.876019</td>\n",
              "      <td>0.545698</td>\n",
              "      <td>1.103398</td>\n",
              "      <td>-0.541855</td>\n",
              "      <td>0.036943</td>\n",
              "      <td>-0.355519</td>\n",
              "      <td>0.353634</td>\n",
              "      <td>1.042458</td>\n",
              "      <td>1.359516</td>\n",
              "      <td>-0.272188</td>\n",
              "      <td>0.00</td>\n",
              "      <td>1</td>\n",
              "    </tr>\n",
              "    <tr>\n",
              "      <th>143336</th>\n",
              "      <td>85285.0</td>\n",
              "      <td>-6.713407</td>\n",
              "      <td>3.921104</td>\n",
              "      <td>-9.746678</td>\n",
              "      <td>5.148263</td>\n",
              "      <td>-5.151563</td>\n",
              "      <td>-2.099389</td>\n",
              "      <td>-5.937767</td>\n",
              "      <td>3.578780</td>\n",
              "      <td>-4.684952</td>\n",
              "      <td>-8.537758</td>\n",
              "      <td>6.348979</td>\n",
              "      <td>-8.681609</td>\n",
              "      <td>0.251179</td>\n",
              "      <td>-11.608002</td>\n",
              "      <td>-0.351569</td>\n",
              "      <td>-5.363566</td>\n",
              "      <td>-11.939092</td>\n",
              "      <td>-3.583603</td>\n",
              "      <td>0.897402</td>\n",
              "      <td>0.135711</td>\n",
              "      <td>0.954272</td>\n",
              "      <td>-0.451086</td>\n",
              "      <td>0.127214</td>\n",
              "      <td>-0.339450</td>\n",
              "      <td>0.394096</td>\n",
              "      <td>1.075295</td>\n",
              "      <td>1.649906</td>\n",
              "      <td>-0.394905</td>\n",
              "      <td>252.92</td>\n",
              "      <td>1</td>\n",
              "    </tr>\n",
              "    <tr>\n",
              "      <th>150661</th>\n",
              "      <td>93853.0</td>\n",
              "      <td>-6.185857</td>\n",
              "      <td>7.102985</td>\n",
              "      <td>-13.030455</td>\n",
              "      <td>8.010823</td>\n",
              "      <td>-7.885237</td>\n",
              "      <td>-3.974550</td>\n",
              "      <td>-12.229608</td>\n",
              "      <td>4.971232</td>\n",
              "      <td>-4.248307</td>\n",
              "      <td>-12.965481</td>\n",
              "      <td>8.688308</td>\n",
              "      <td>-17.182918</td>\n",
              "      <td>0.069577</td>\n",
              "      <td>-14.116156</td>\n",
              "      <td>0.959032</td>\n",
              "      <td>-12.375334</td>\n",
              "      <td>-18.716765</td>\n",
              "      <td>-6.522015</td>\n",
              "      <td>3.517955</td>\n",
              "      <td>0.483930</td>\n",
              "      <td>2.502772</td>\n",
              "      <td>0.481691</td>\n",
              "      <td>0.480958</td>\n",
              "      <td>0.360319</td>\n",
              "      <td>-0.293354</td>\n",
              "      <td>-0.199193</td>\n",
              "      <td>-0.203917</td>\n",
              "      <td>0.398927</td>\n",
              "      <td>44.90</td>\n",
              "      <td>1</td>\n",
              "    </tr>\n",
              "    <tr>\n",
              "      <th>150663</th>\n",
              "      <td>93853.0</td>\n",
              "      <td>-5.839192</td>\n",
              "      <td>7.151532</td>\n",
              "      <td>-12.816760</td>\n",
              "      <td>7.031115</td>\n",
              "      <td>-9.651272</td>\n",
              "      <td>-2.938427</td>\n",
              "      <td>-11.543207</td>\n",
              "      <td>4.843627</td>\n",
              "      <td>-3.494276</td>\n",
              "      <td>-13.320789</td>\n",
              "      <td>8.460244</td>\n",
              "      <td>-17.003289</td>\n",
              "      <td>0.101557</td>\n",
              "      <td>-14.094452</td>\n",
              "      <td>0.747031</td>\n",
              "      <td>-12.661696</td>\n",
              "      <td>-18.912494</td>\n",
              "      <td>-6.626975</td>\n",
              "      <td>4.008921</td>\n",
              "      <td>0.055684</td>\n",
              "      <td>2.462056</td>\n",
              "      <td>1.054865</td>\n",
              "      <td>0.530481</td>\n",
              "      <td>0.472670</td>\n",
              "      <td>-0.275998</td>\n",
              "      <td>0.282435</td>\n",
              "      <td>0.104886</td>\n",
              "      <td>0.254417</td>\n",
              "      <td>316.06</td>\n",
              "      <td>1</td>\n",
              "    </tr>\n",
              "    <tr>\n",
              "      <th>150667</th>\n",
              "      <td>93860.0</td>\n",
              "      <td>-10.850282</td>\n",
              "      <td>6.727466</td>\n",
              "      <td>-16.760583</td>\n",
              "      <td>8.425832</td>\n",
              "      <td>-10.252697</td>\n",
              "      <td>-4.192171</td>\n",
              "      <td>-14.077086</td>\n",
              "      <td>7.168288</td>\n",
              "      <td>-3.683242</td>\n",
              "      <td>-15.239962</td>\n",
              "      <td>8.030708</td>\n",
              "      <td>-16.060306</td>\n",
              "      <td>0.270530</td>\n",
              "      <td>-14.952981</td>\n",
              "      <td>-0.241095</td>\n",
              "      <td>-11.866731</td>\n",
              "      <td>-15.486990</td>\n",
              "      <td>-5.748652</td>\n",
              "      <td>4.130031</td>\n",
              "      <td>-0.646818</td>\n",
              "      <td>2.541637</td>\n",
              "      <td>0.135535</td>\n",
              "      <td>-1.023967</td>\n",
              "      <td>0.406265</td>\n",
              "      <td>0.106593</td>\n",
              "      <td>-0.026232</td>\n",
              "      <td>-1.464630</td>\n",
              "      <td>-0.411682</td>\n",
              "      <td>78.00</td>\n",
              "      <td>1</td>\n",
              "    </tr>\n",
              "    <tr>\n",
              "      <th>150669</th>\n",
              "      <td>93860.0</td>\n",
              "      <td>-10.632375</td>\n",
              "      <td>7.251936</td>\n",
              "      <td>-17.681072</td>\n",
              "      <td>8.204144</td>\n",
              "      <td>-10.166591</td>\n",
              "      <td>-4.510344</td>\n",
              "      <td>-12.981606</td>\n",
              "      <td>6.783589</td>\n",
              "      <td>-4.659330</td>\n",
              "      <td>-14.924655</td>\n",
              "      <td>8.389142</td>\n",
              "      <td>-16.465504</td>\n",
              "      <td>0.338517</td>\n",
              "      <td>-14.224404</td>\n",
              "      <td>0.556584</td>\n",
              "      <td>-11.683998</td>\n",
              "      <td>-15.841616</td>\n",
              "      <td>-5.753200</td>\n",
              "      <td>3.813041</td>\n",
              "      <td>-0.810146</td>\n",
              "      <td>2.715357</td>\n",
              "      <td>0.695603</td>\n",
              "      <td>-1.138122</td>\n",
              "      <td>0.459442</td>\n",
              "      <td>0.386337</td>\n",
              "      <td>0.522438</td>\n",
              "      <td>-1.416604</td>\n",
              "      <td>-0.488307</td>\n",
              "      <td>188.52</td>\n",
              "      <td>1</td>\n",
              "    </tr>\n",
              "    <tr>\n",
              "      <th>150678</th>\n",
              "      <td>93879.0</td>\n",
              "      <td>-13.086519</td>\n",
              "      <td>7.352148</td>\n",
              "      <td>-18.256576</td>\n",
              "      <td>10.648505</td>\n",
              "      <td>-11.731476</td>\n",
              "      <td>-3.659167</td>\n",
              "      <td>-14.873658</td>\n",
              "      <td>8.810473</td>\n",
              "      <td>-5.418204</td>\n",
              "      <td>-13.202577</td>\n",
              "      <td>6.357227</td>\n",
              "      <td>-15.531611</td>\n",
              "      <td>0.659695</td>\n",
              "      <td>-11.412330</td>\n",
              "      <td>-2.447576</td>\n",
              "      <td>-9.833743</td>\n",
              "      <td>-18.174617</td>\n",
              "      <td>-7.269905</td>\n",
              "      <td>0.623797</td>\n",
              "      <td>-1.376298</td>\n",
              "      <td>2.761157</td>\n",
              "      <td>-0.266162</td>\n",
              "      <td>-0.412861</td>\n",
              "      <td>0.519952</td>\n",
              "      <td>-0.743909</td>\n",
              "      <td>-0.167808</td>\n",
              "      <td>-2.498300</td>\n",
              "      <td>-0.711066</td>\n",
              "      <td>30.31</td>\n",
              "      <td>1</td>\n",
              "    </tr>\n",
              "    <tr>\n",
              "      <th>150680</th>\n",
              "      <td>93879.0</td>\n",
              "      <td>-12.833631</td>\n",
              "      <td>7.508790</td>\n",
              "      <td>-20.491952</td>\n",
              "      <td>7.465780</td>\n",
              "      <td>-11.575304</td>\n",
              "      <td>-5.140999</td>\n",
              "      <td>-14.020564</td>\n",
              "      <td>8.332120</td>\n",
              "      <td>-4.337713</td>\n",
              "      <td>-15.563791</td>\n",
              "      <td>7.610820</td>\n",
              "      <td>-15.592323</td>\n",
              "      <td>0.504789</td>\n",
              "      <td>-13.247889</td>\n",
              "      <td>-0.796526</td>\n",
              "      <td>-10.342328</td>\n",
              "      <td>-16.044524</td>\n",
              "      <td>-5.882136</td>\n",
              "      <td>1.573698</td>\n",
              "      <td>-1.378923</td>\n",
              "      <td>2.966842</td>\n",
              "      <td>0.615344</td>\n",
              "      <td>-0.766495</td>\n",
              "      <td>0.431261</td>\n",
              "      <td>-0.104975</td>\n",
              "      <td>-0.010091</td>\n",
              "      <td>-2.400811</td>\n",
              "      <td>-0.720557</td>\n",
              "      <td>104.03</td>\n",
              "      <td>1</td>\n",
              "    </tr>\n",
              "    <tr>\n",
              "      <th>151007</th>\n",
              "      <td>94362.0</td>\n",
              "      <td>-26.457745</td>\n",
              "      <td>16.497472</td>\n",
              "      <td>-30.177317</td>\n",
              "      <td>8.904157</td>\n",
              "      <td>-17.892600</td>\n",
              "      <td>-1.227904</td>\n",
              "      <td>-31.197329</td>\n",
              "      <td>-11.438920</td>\n",
              "      <td>-9.462573</td>\n",
              "      <td>-22.187089</td>\n",
              "      <td>4.419997</td>\n",
              "      <td>-10.592305</td>\n",
              "      <td>-0.703796</td>\n",
              "      <td>-3.926207</td>\n",
              "      <td>-2.400246</td>\n",
              "      <td>-6.809890</td>\n",
              "      <td>-12.462315</td>\n",
              "      <td>-5.501051</td>\n",
              "      <td>-0.567940</td>\n",
              "      <td>2.812241</td>\n",
              "      <td>-8.755698</td>\n",
              "      <td>3.460893</td>\n",
              "      <td>0.896538</td>\n",
              "      <td>0.254836</td>\n",
              "      <td>-0.738097</td>\n",
              "      <td>-0.966564</td>\n",
              "      <td>-7.263482</td>\n",
              "      <td>-1.324884</td>\n",
              "      <td>1.00</td>\n",
              "      <td>1</td>\n",
              "    </tr>\n",
              "    <tr>\n",
              "      <th>151008</th>\n",
              "      <td>94362.0</td>\n",
              "      <td>-26.457745</td>\n",
              "      <td>16.497472</td>\n",
              "      <td>-30.177317</td>\n",
              "      <td>8.904157</td>\n",
              "      <td>-17.892600</td>\n",
              "      <td>-1.227904</td>\n",
              "      <td>-31.197329</td>\n",
              "      <td>-11.438920</td>\n",
              "      <td>-9.462573</td>\n",
              "      <td>-22.187089</td>\n",
              "      <td>4.419997</td>\n",
              "      <td>-10.592305</td>\n",
              "      <td>-0.703796</td>\n",
              "      <td>-3.926207</td>\n",
              "      <td>-2.400246</td>\n",
              "      <td>-6.809890</td>\n",
              "      <td>-12.462315</td>\n",
              "      <td>-5.501051</td>\n",
              "      <td>-0.567940</td>\n",
              "      <td>2.812241</td>\n",
              "      <td>-8.755698</td>\n",
              "      <td>3.460893</td>\n",
              "      <td>0.896538</td>\n",
              "      <td>0.254836</td>\n",
              "      <td>-0.738097</td>\n",
              "      <td>-0.966564</td>\n",
              "      <td>-7.263482</td>\n",
              "      <td>-1.324884</td>\n",
              "      <td>1.00</td>\n",
              "      <td>1</td>\n",
              "    </tr>\n",
              "    <tr>\n",
              "      <th>151009</th>\n",
              "      <td>94362.0</td>\n",
              "      <td>-26.457745</td>\n",
              "      <td>16.497472</td>\n",
              "      <td>-30.177317</td>\n",
              "      <td>8.904157</td>\n",
              "      <td>-17.892600</td>\n",
              "      <td>-1.227904</td>\n",
              "      <td>-31.197329</td>\n",
              "      <td>-11.438920</td>\n",
              "      <td>-9.462573</td>\n",
              "      <td>-22.187089</td>\n",
              "      <td>4.419997</td>\n",
              "      <td>-10.592305</td>\n",
              "      <td>-0.703796</td>\n",
              "      <td>-3.926207</td>\n",
              "      <td>-2.400246</td>\n",
              "      <td>-6.809890</td>\n",
              "      <td>-12.462315</td>\n",
              "      <td>-5.501051</td>\n",
              "      <td>-0.567940</td>\n",
              "      <td>2.812241</td>\n",
              "      <td>-8.755698</td>\n",
              "      <td>3.460893</td>\n",
              "      <td>0.896538</td>\n",
              "      <td>0.254836</td>\n",
              "      <td>-0.738097</td>\n",
              "      <td>-0.966564</td>\n",
              "      <td>-7.263482</td>\n",
              "      <td>-1.324884</td>\n",
              "      <td>1.00</td>\n",
              "      <td>1</td>\n",
              "    </tr>\n",
              "    <tr>\n",
              "      <th>234633</th>\n",
              "      <td>148053.0</td>\n",
              "      <td>1.261324</td>\n",
              "      <td>2.726800</td>\n",
              "      <td>-5.435019</td>\n",
              "      <td>5.342759</td>\n",
              "      <td>1.447043</td>\n",
              "      <td>-1.442584</td>\n",
              "      <td>-0.898702</td>\n",
              "      <td>0.123062</td>\n",
              "      <td>-2.748496</td>\n",
              "      <td>-3.202436</td>\n",
              "      <td>1.991361</td>\n",
              "      <td>-3.986416</td>\n",
              "      <td>0.577207</td>\n",
              "      <td>-8.485795</td>\n",
              "      <td>-0.794782</td>\n",
              "      <td>-0.666134</td>\n",
              "      <td>-1.372629</td>\n",
              "      <td>-0.104313</td>\n",
              "      <td>-1.466911</td>\n",
              "      <td>0.313332</td>\n",
              "      <td>0.209086</td>\n",
              "      <td>-0.425938</td>\n",
              "      <td>-0.154440</td>\n",
              "      <td>-0.018820</td>\n",
              "      <td>0.632234</td>\n",
              "      <td>0.192922</td>\n",
              "      <td>0.468181</td>\n",
              "      <td>0.280486</td>\n",
              "      <td>1.59</td>\n",
              "      <td>1</td>\n",
              "    </tr>\n",
              "  </tbody>\n",
              "</table>\n",
              "</div>"
            ],
            "text/plain": [
              "            Time         V1         V2  ...       V28  Amount  Class\n",
              "102442   68207.0 -13.192671  12.785971  ...  0.939407    1.00      1\n",
              "102443   68207.0 -13.192671  12.785971  ...  0.939407    1.00      1\n",
              "102444   68207.0 -13.192671  12.785971  ...  0.939407    1.00      1\n",
              "102445   68207.0 -13.192671  12.785971  ...  0.939407    1.00      1\n",
              "102446   68207.0 -13.192671  12.785971  ...  0.939407    1.00      1\n",
              "141258   84204.0  -0.937843   3.462889  ...  0.729889    0.00      1\n",
              "141260   84204.0  -1.927453   1.827621  ...  0.819081  512.25      1\n",
              "143334   85285.0  -7.030308   3.421991  ... -0.272188    0.00      1\n",
              "143336   85285.0  -6.713407   3.921104  ... -0.394905  252.92      1\n",
              "150661   93853.0  -6.185857   7.102985  ...  0.398927   44.90      1\n",
              "150663   93853.0  -5.839192   7.151532  ...  0.254417  316.06      1\n",
              "150667   93860.0 -10.850282   6.727466  ... -0.411682   78.00      1\n",
              "150669   93860.0 -10.632375   7.251936  ... -0.488307  188.52      1\n",
              "150678   93879.0 -13.086519   7.352148  ... -0.711066   30.31      1\n",
              "150680   93879.0 -12.833631   7.508790  ... -0.720557  104.03      1\n",
              "151007   94362.0 -26.457745  16.497472  ... -1.324884    1.00      1\n",
              "151008   94362.0 -26.457745  16.497472  ... -1.324884    1.00      1\n",
              "151009   94362.0 -26.457745  16.497472  ... -1.324884    1.00      1\n",
              "234633  148053.0   1.261324   2.726800  ...  0.280486    1.59      1\n",
              "\n",
              "[19 rows x 31 columns]"
            ]
          },
          "metadata": {
            "tags": []
          },
          "execution_count": 13
        }
      ]
    },
    {
      "cell_type": "markdown",
      "metadata": {
        "id": "KMlFOPLxg95i"
      },
      "source": [
        "#### Removendo linhas duplicadas"
      ]
    },
    {
      "cell_type": "code",
      "metadata": {
        "colab": {
          "base_uri": "https://localhost:8080/"
        },
        "id": "RkTBA4mor3r5",
        "outputId": "03bc56d8-871c-4197-ddca-19c3d3f8da90"
      },
      "source": [
        "df[df.duplicated() & df.Class==1].shape"
      ],
      "execution_count": null,
      "outputs": [
        {
          "output_type": "execute_result",
          "data": {
            "text/plain": [
              "(19, 31)"
            ]
          },
          "metadata": {
            "tags": []
          },
          "execution_count": 11
        }
      ]
    },
    {
      "cell_type": "code",
      "metadata": {
        "id": "AfTUH8aEMjy3"
      },
      "source": [
        "df = df.drop_duplicates()"
      ],
      "execution_count": null,
      "outputs": []
    },
    {
      "cell_type": "markdown",
      "metadata": {
        "id": "WhO9emT_7zKF"
      },
      "source": [
        "# Visualização dos dados  <a name=\"visualizacao\"></a>"
      ]
    },
    {
      "cell_type": "code",
      "metadata": {
        "colab": {
          "base_uri": "https://localhost:8080/",
          "height": 297
        },
        "id": "_GUdQxWSA4aA",
        "outputId": "f453aac4-8d67-48e5-af79-3ae4d292d326"
      },
      "source": [
        "sns.countplot(df.Class)"
      ],
      "execution_count": null,
      "outputs": [
        {
          "output_type": "execute_result",
          "data": {
            "text/plain": [
              "<matplotlib.axes._subplots.AxesSubplot at 0x7f3627745e90>"
            ]
          },
          "metadata": {
            "tags": []
          },
          "execution_count": 19
        },
        {
          "output_type": "display_data",
          "data": {
            "image/png": "[encoded data removed]",
            "text/plain": [
              "<Figure size 432x288 with 1 Axes>"
            ]
          },
          "metadata": {
            "tags": []
          }
        }
      ]
    },
    {
      "cell_type": "code",
      "metadata": {
        "colab": {
          "base_uri": "https://localhost:8080/",
          "height": 304
        },
        "id": "HIHUVtY0tsoW",
        "outputId": "2d62f06f-5c5b-4462-bf8f-798564f8a7eb"
      },
      "source": [
        "sns.heatmap(df.corr())"
      ],
      "execution_count": null,
      "outputs": [
        {
          "output_type": "execute_result",
          "data": {
            "text/plain": [
              "<matplotlib.axes._subplots.AxesSubplot at 0x7f36276a53d0>"
            ]
          },
          "metadata": {
            "tags": []
          },
          "execution_count": 20
        },
        {
          "output_type": "display_data",
          "data": {
            "image/png": "[encoded data removed]",
            "text/plain": [
              "<Figure size 432x288 with 2 Axes>"
            ]
          },
          "metadata": {
            "tags": []
          }
        }
      ]
    },
    {
      "cell_type": "markdown",
      "metadata": {
        "id": "srJLVhe8BIR4"
      },
      "source": [
        "# Preparando os dados para serem apresentados à Machine Learning <a name=\"balanceamento\"></a>"
      ]
    },
    {
      "cell_type": "code",
      "metadata": {
        "id": "MyuAlbWhezZ4"
      },
      "source": [
        "X = df.drop(['Class'], axis=1)\n",
        "y=df['Class']"
      ],
      "execution_count": null,
      "outputs": []
    },
    {
      "cell_type": "markdown",
      "metadata": {
        "id": "4xwiegCOJvgq"
      },
      "source": [
        "#### Balanceamento"
      ]
    },
    {
      "cell_type": "code",
      "metadata": {
        "id": "fs9v82A7J0BX"
      },
      "source": [
        "from imblearn.over_sampling import SMOTE"
      ],
      "execution_count": null,
      "outputs": []
    },
    {
      "cell_type": "code",
      "metadata": {
        "id": "SAzvhnS_KCk5"
      },
      "source": [
        "smt = SMOTE()"
      ],
      "execution_count": null,
      "outputs": []
    },
    {
      "cell_type": "code",
      "metadata": {
        "id": "ASKzX58VKhcu"
      },
      "source": [
        "X_sm, y_sm = smt.fit_sample(X, y)"
      ],
      "execution_count": null,
      "outputs": []
    },
    {
      "cell_type": "code",
      "metadata": {
        "colab": {
          "base_uri": "https://localhost:8080/"
        },
        "id": "6Bi7YRjhKoPT",
        "outputId": "7af7b7b0-fdac-4e74-f883-957b8a41f5ce"
      },
      "source": [
        "#Contagem do target depois do SMOTE\n",
        "np.bincount(y_sm)"
      ],
      "execution_count": null,
      "outputs": [
        {
          "output_type": "execute_result",
          "data": {
            "text/plain": [
              "array([283253, 283253])"
            ]
          },
          "metadata": {
            "tags": []
          },
          "execution_count": 10
        }
      ]
    },
    {
      "cell_type": "code",
      "metadata": {
        "colab": {
          "base_uri": "https://localhost:8080/"
        },
        "id": "4ypWAA-T6E-T",
        "outputId": "43918149-4a39-42c1-ac72-34f0245a2265"
      },
      "source": [
        "pd.Series(y_sm).value_counts()"
      ],
      "execution_count": null,
      "outputs": [
        {
          "output_type": "execute_result",
          "data": {
            "text/plain": [
              "1    283253\n",
              "0    283253\n",
              "dtype: int64"
            ]
          },
          "metadata": {
            "tags": []
          },
          "execution_count": 20
        }
      ]
    },
    {
      "cell_type": "code",
      "metadata": {
        "id": "BLYrwZTLBPfc"
      },
      "source": [
        "# Separando em train e test\n",
        "# stratidy garante que todas as classes serão contempladas\n",
        "X_train, X_test, y_train, y_test = train_test_split(X_sm, y_sm, stratify=y_sm, random_state=1, test_size=0.20)"
      ],
      "execution_count": null,
      "outputs": []
    },
    {
      "cell_type": "code",
      "metadata": {
        "id": "BUdGjKLPBS2N"
      },
      "source": [
        "scaler = StandardScaler()\n",
        "X_train = scaler.fit_transform(X_train)\n",
        "X_test = scaler.transform(X_test)"
      ],
      "execution_count": null,
      "outputs": []
    },
    {
      "cell_type": "markdown",
      "metadata": {
        "id": "HxBmaDXKYC7a"
      },
      "source": [
        "#### Definição de função - métricas e matriz de confusão"
      ]
    },
    {
      "cell_type": "code",
      "metadata": {
        "id": "5B5wDuJHYSqN"
      },
      "source": [
        "def plot_confusion_matrix(cm, classes,\n",
        "                          normalize=False,\n",
        "                          title='Confusion matrix',\n",
        "                          cmap=plt.cm.Blues):\n",
        "    \"\"\"\n",
        "    This function prints and plots the confusion matrix.\n",
        "    Normalization can be applied by setting `normalize=True`.\n",
        "    \"\"\"\n",
        "    if normalize:\n",
        "        cm = cm.astype('float') / cm.sum(axis=1)[:, np.newaxis]\n",
        "        print(\"Normalized confusion matrix\")\n",
        "    else:\n",
        "        print('Confusion matrix, without normalization')\n",
        "\n",
        "    print(cm)\n",
        "\n",
        "    plt.imshow(cm, interpolation='nearest', cmap=cmap)\n",
        "    plt.title(title)\n",
        "    plt.colorbar()\n",
        "    tick_marks = np.arange(len(classes))\n",
        "    plt.xticks(tick_marks, classes, rotation=45)\n",
        "    plt.yticks(tick_marks, classes)\n",
        "\n",
        "    fmt = '.2f' if normalize else 'd'\n",
        "    thresh = cm.max() / 2.\n",
        "    for i, j in itertools.product(range(cm.shape[0]), range(cm.shape[1])):\n",
        "        plt.text(j, i, format(cm[i, j], fmt),\n",
        "                 horizontalalignment=\"center\",\n",
        "                 color=\"white\" if cm[i, j] > thresh else \"black\")\n",
        "\n",
        "    plt.tight_layout()\n",
        "    plt.ylabel('True label')\n",
        "    plt.xlabel('Predicted label')"
      ],
      "execution_count": null,
      "outputs": []
    },
    {
      "cell_type": "markdown",
      "metadata": {
        "id": "1G_1zi3AfdHN"
      },
      "source": [
        "## Algoritmo - Redes Neurais <a name=\"rede\"></a>"
      ]
    },
    {
      "cell_type": "code",
      "metadata": {
        "colab": {
          "base_uri": "https://localhost:8080/"
        },
        "id": "EuWH1Hgf3uqI",
        "outputId": "2f81d36e-8b68-41c7-9155-1a1d56427bc3"
      },
      "source": [
        "clf = MLPClassifier(hidden_layer_sizes=200, random_state=1, max_iter=300, verbose=True,learning_rate_init=0.001,early_stopping=True, n_iter_no_change=30).fit(X_train, y_train)"
      ],
      "execution_count": null,
      "outputs": [
        {
          "output_type": "stream",
          "text": [
            "Iteration 1, loss = 0.05936887\n",
            "Validation score: 0.992851\n",
            "Iteration 2, loss = 0.01809419\n",
            "Validation score: 0.997198\n",
            "Iteration 3, loss = 0.00958218\n",
            "Validation score: 0.998323\n",
            "Iteration 4, loss = 0.00632789\n",
            "Validation score: 0.999095\n",
            "Iteration 5, loss = 0.00464213\n",
            "Validation score: 0.999117\n",
            "Iteration 6, loss = 0.00373892\n",
            "Validation score: 0.999448\n",
            "Iteration 7, loss = 0.00303181\n",
            "Validation score: 0.999470\n",
            "Iteration 8, loss = 0.00262797\n",
            "Validation score: 0.999360\n",
            "Iteration 9, loss = 0.00241171\n",
            "Validation score: 0.999603\n",
            "Iteration 10, loss = 0.00210747\n",
            "Validation score: 0.999493\n",
            "Iteration 11, loss = 0.00183491\n",
            "Validation score: 0.999669\n",
            "Iteration 12, loss = 0.00166291\n",
            "Validation score: 0.999625\n",
            "Iteration 13, loss = 0.00154500\n",
            "Validation score: 0.999603\n",
            "Iteration 14, loss = 0.00139818\n",
            "Validation score: 0.999537\n",
            "Iteration 15, loss = 0.00132868\n",
            "Validation score: 0.999603\n",
            "Iteration 16, loss = 0.00130769\n",
            "Validation score: 0.999581\n",
            "Iteration 17, loss = 0.00120666\n",
            "Validation score: 0.999559\n",
            "Iteration 18, loss = 0.00101655\n",
            "Validation score: 0.999647\n",
            "Iteration 19, loss = 0.00104804\n",
            "Validation score: 0.999691\n",
            "Iteration 20, loss = 0.00094294\n",
            "Validation score: 0.999581\n",
            "Iteration 21, loss = 0.00093629\n",
            "Validation score: 0.999713\n",
            "Iteration 22, loss = 0.00093075\n",
            "Validation score: 0.999801\n",
            "Iteration 23, loss = 0.00094556\n",
            "Validation score: 0.999470\n",
            "Iteration 24, loss = 0.00092757\n",
            "Validation score: 0.999669\n",
            "Iteration 25, loss = 0.00083177\n",
            "Validation score: 0.999625\n",
            "Iteration 26, loss = 0.00080088\n",
            "Validation score: 0.999294\n",
            "Iteration 27, loss = 0.00078767\n",
            "Validation score: 0.999779\n",
            "Iteration 28, loss = inf\n",
            "Validation score: 0.999691\n",
            "Iteration 29, loss = inf\n",
            "Validation score: 0.999559\n",
            "Iteration 30, loss = 0.00090659\n",
            "Validation score: 0.999515\n",
            "Iteration 31, loss = 0.00069593\n",
            "Validation score: 0.999603\n",
            "Iteration 32, loss = inf\n",
            "Validation score: 0.999448\n",
            "Iteration 33, loss = 0.00083880\n",
            "Validation score: 0.999713\n",
            "Iteration 34, loss = 0.00078979\n",
            "Validation score: 0.999448\n",
            "Iteration 35, loss = 0.00088318\n",
            "Validation score: 0.999868\n",
            "Iteration 36, loss = inf\n",
            "Validation score: 0.999625\n",
            "Iteration 37, loss = 0.00071324\n",
            "Validation score: 0.999801\n",
            "Iteration 38, loss = 0.00070076\n",
            "Validation score: 0.999801\n",
            "Iteration 39, loss = 0.00077983\n",
            "Validation score: 0.999691\n",
            "Iteration 40, loss = inf\n",
            "Validation score: 0.999625\n",
            "Validation score did not improve more than tol=0.000100 for 30 consecutive epochs. Stopping.\n"
          ],
          "name": "stdout"
        }
      ]
    },
    {
      "cell_type": "code",
      "metadata": {
        "id": "LEVuoS1O30KR"
      },
      "source": [
        "y_predict = clf.predict(X_test)"
      ],
      "execution_count": null,
      "outputs": []
    },
    {
      "cell_type": "markdown",
      "metadata": {
        "id": "cya0vhOD8uQ8"
      },
      "source": [
        "## Avaliando o Modelo - Redes Neurais"
      ]
    },
    {
      "cell_type": "code",
      "metadata": {
        "colab": {
          "base_uri": "https://localhost:8080/",
          "height": 512
        },
        "id": "OaWkC0_fCJ8s",
        "outputId": "b97cc36d-6084-430d-bb32-63c2bae3eac6"
      },
      "source": [
        "cnf_matrix = confusion_matrix(y_test, y_predict, labels=[1, 0])\n",
        "#np.set_printoptions(precision=0.001)\n",
        "\n",
        "print (classification_report(y_test, y_predict, digits=5))\n",
        "\n",
        "# Plot non-normalized confusion matrix\n",
        "plt.figure()\n",
        "plot_confusion_matrix(cnf_matrix, classes=['Fraud','Not'],normalize= False,  title='Confusion matrix')"
      ],
      "execution_count": null,
      "outputs": [
        {
          "output_type": "stream",
          "text": [
            "              precision    recall  f1-score   support\n",
            "\n",
            "           0    1.00000   0.99963   0.99981     56651\n",
            "           1    0.99963   1.00000   0.99981     56651\n",
            "\n",
            "    accuracy                        0.99981    113302\n",
            "   macro avg    0.99981   0.99981   0.99981    113302\n",
            "weighted avg    0.99981   0.99981   0.99981    113302\n",
            "\n",
            "Confusion matrix, without normalization\n",
            "[[56651     0]\n",
            " [   21 56630]]\n"
          ],
          "name": "stdout"
        },
        {
          "output_type": "display_data",
          "data": {
            "image/png": "[encoded data removed]",
            "text/plain": [
              "<Figure size 432x288 with 2 Axes>"
            ]
          },
          "metadata": {
            "tags": []
          }
        }
      ]
    },
    {
      "cell_type": "code",
      "metadata": {
        "colab": {
          "base_uri": "https://localhost:8080/",
          "height": 278
        },
        "id": "R7o9MJyLCS_d",
        "outputId": "6bc65b36-93ea-4364-d1f7-aede489b72ec"
      },
      "source": [
        "plot_roc_curve(clf, X_test, y_test)\n",
        "plt.show()"
      ],
      "execution_count": null,
      "outputs": [
        {
          "output_type": "display_data",
          "data": {
            "image/png": "[encoded data removed]",
            "text/plain": [
              "<Figure size 432x288 with 1 Axes>"
            ]
          },
          "metadata": {
            "tags": []
          }
        }
      ]
    },
    {
      "cell_type": "code",
      "metadata": {
        "colab": {
          "base_uri": "https://localhost:8080/"
        },
        "id": "2cv3MZxZCv7D",
        "outputId": "3475a594-073e-4ef0-f88c-9504430294ac"
      },
      "source": [
        "roc_auc_score(y_test, clf.predict_proba(X_test)[:, 1])"
      ],
      "execution_count": null,
      "outputs": [
        {
          "output_type": "execute_result",
          "data": {
            "text/plain": [
              "0.9999647680993791"
            ]
          },
          "metadata": {
            "tags": []
          },
          "execution_count": 32
        }
      ]
    },
    {
      "cell_type": "code",
      "metadata": {
        "colab": {
          "base_uri": "https://localhost:8080/"
        },
        "id": "UzmvcwziCvsL",
        "outputId": "4173863c-86b7-449a-f7f7-e9b005f72749"
      },
      "source": [
        "print('ROCAUC score:',roc_auc_score(y_test, y_predict))"
      ],
      "execution_count": null,
      "outputs": [
        {
          "output_type": "stream",
          "text": [
            "ROCAUC score: 0.9998146546398121\n"
          ],
          "name": "stdout"
        }
      ]
    },
    {
      "cell_type": "markdown",
      "metadata": {
        "id": "Aq3P1-jo52kG"
      },
      "source": [
        "## Algoritmo - Random Forest <a name=\"rf\"></a>"
      ]
    },
    {
      "cell_type": "code",
      "metadata": {
        "id": "qQCQ1nwM50xh"
      },
      "source": [
        "model_RF = RandomForestClassifier(n_estimators=300, criterion='entropy', random_state=42, max_depth=50)"
      ],
      "execution_count": null,
      "outputs": []
    },
    {
      "cell_type": "code",
      "metadata": {
        "id": "FgwnZaSs57wx"
      },
      "source": [
        "model_RF = model_RF.fit(X_train, y_train)"
      ],
      "execution_count": null,
      "outputs": []
    },
    {
      "cell_type": "code",
      "metadata": {
        "id": "s3A7kxpA5_Ez"
      },
      "source": [
        "y_predict_sm_RF = model_RF.predict(X_test)"
      ],
      "execution_count": null,
      "outputs": []
    },
    {
      "cell_type": "code",
      "metadata": {
        "colab": {
          "base_uri": "https://localhost:8080/",
          "height": 505
        },
        "id": "V82r-hxE6CZU",
        "outputId": "42d2652c-ef16-45e9-be3d-49cffa3afb6c"
      },
      "source": [
        "cnf_matrix = confusion_matrix(y_test, y_predict_sm_RF, labels=[1,0])\n",
        "np.set_printoptions(precision=2)\n",
        "\n",
        "print (classification_report(y_test, y_predict_sm_RF, digits=5))\n",
        "\n",
        "# Plot non-normalized confusion matrix\n",
        "plt.figure()\n",
        "plot_confusion_matrix(cnf_matrix, classes=['Fraud','Not'],normalize= False,  title='Confusion matrix')"
      ],
      "execution_count": null,
      "outputs": [
        {
          "output_type": "stream",
          "text": [
            "              precision    recall  f1-score   support\n",
            "\n",
            "           0    1.00000   0.99977   0.99989     56651\n",
            "           1    0.99977   1.00000   0.99989     56651\n",
            "\n",
            "    accuracy                        0.99989    113302\n",
            "   macro avg    0.99989   0.99989   0.99989    113302\n",
            "weighted avg    0.99989   0.99989   0.99989    113302\n",
            "\n",
            "Confusion matrix, without normalization\n",
            "[[56651     0]\n",
            " [   13 56638]]\n"
          ],
          "name": "stdout"
        },
        {
          "output_type": "display_data",
          "data": {
            "image/png": "[encoded data removed]",
            "text/plain": [
              "<Figure size 432x288 with 2 Axes>"
            ]
          },
          "metadata": {
            "tags": [],
            "needs_background": "light"
          }
        }
      ]
    },
    {
      "cell_type": "markdown",
      "metadata": {
        "id": "WID0TTKlW5pi"
      },
      "source": [
        "## Algoritmo - XGBOOST <a name=\"xgb\"></a>"
      ]
    },
    {
      "cell_type": "code",
      "metadata": {
        "id": "5tf34pUuW5B9"
      },
      "source": [
        "from xgboost import XGBClassifier\n",
        "model_XGB = XGBClassifier()"
      ],
      "execution_count": null,
      "outputs": []
    },
    {
      "cell_type": "code",
      "metadata": {
        "id": "fltwgS_3Xn39"
      },
      "source": [
        "model_XGB = model_XGB.fit(X_train, y_train)"
      ],
      "execution_count": null,
      "outputs": []
    },
    {
      "cell_type": "code",
      "metadata": {
        "id": "-ta2oe-BXvWT"
      },
      "source": [
        "y_predict_sm_XGB = model_XGB.predict(X_test)"
      ],
      "execution_count": null,
      "outputs": []
    },
    {
      "cell_type": "markdown",
      "metadata": {
        "id": "BNQlum-BXy-i"
      },
      "source": [
        "## Avaliando o modelo - XGBOOST"
      ]
    },
    {
      "cell_type": "code",
      "metadata": {
        "colab": {
          "base_uri": "https://localhost:8080/",
          "height": 512
        },
        "id": "8hqOWhR9EBIe",
        "outputId": "d6c99a84-c73e-480b-b33e-842730bb61f6"
      },
      "source": [
        "cnf_matrix = confusion_matrix(y_test, y_predict_sm_XGB, labels=[1,0])\n",
        "np.set_printoptions(precision=2)\n",
        "\n",
        "print (classification_report(y_test, y_predict_sm_XGB, digits=5))\n",
        "\n",
        "# Plot non-normalized confusion matrix\n",
        "plt.figure()\n",
        "plot_confusion_matrix(cnf_matrix, classes=['Fraud','Not'],normalize= False,  title='Confusion matrix')"
      ],
      "execution_count": null,
      "outputs": [
        {
          "output_type": "stream",
          "text": [
            "              precision    recall  f1-score   support\n",
            "\n",
            "           0    0.97931   0.99425   0.98672     56651\n",
            "           1    0.99416   0.97899   0.98652     56651\n",
            "\n",
            "    accuracy                        0.98662    113302\n",
            "   macro avg    0.98673   0.98662   0.98662    113302\n",
            "weighted avg    0.98673   0.98662   0.98662    113302\n",
            "\n",
            "Confusion matrix, without normalization\n",
            "[[55461  1190]\n",
            " [  326 56325]]\n"
          ],
          "name": "stdout"
        },
        {
          "output_type": "display_data",
          "data": {
            "image/png": "[encoded data removed]",
            "text/plain": [
              "<Figure size 432x288 with 2 Axes>"
            ]
          },
          "metadata": {
            "tags": []
          }
        }
      ]
    },
    {
      "cell_type": "code",
      "metadata": {
        "colab": {
          "base_uri": "https://localhost:8080/",
          "height": 278
        },
        "id": "06HGGSvSEvI4",
        "outputId": "6118675d-e6a4-4139-ffab-496626c69dd2"
      },
      "source": [
        "plot_roc_curve(model_XGB, X_test, y_test)\n",
        "plt.show()"
      ],
      "execution_count": null,
      "outputs": [
        {
          "output_type": "display_data",
          "data": {
            "image/png": "[encoded data removed]",
            "text/plain": [
              "<Figure size 432x288 with 1 Axes>"
            ]
          },
          "metadata": {
            "tags": []
          }
        }
      ]
    },
    {
      "cell_type": "code",
      "metadata": {
        "colab": {
          "base_uri": "https://localhost:8080/"
        },
        "id": "ejrEKyBdEyyx",
        "outputId": "eae345f1-6f94-4489-d565-bd2f977151c3"
      },
      "source": [
        "roc_auc_score(y_test, model_XGB.predict_proba(X_test)[:, 1])"
      ],
      "execution_count": null,
      "outputs": [
        {
          "output_type": "execute_result",
          "data": {
            "text/plain": [
              "0.9991258752681398"
            ]
          },
          "metadata": {
            "tags": []
          },
          "execution_count": 58
        }
      ]
    },
    {
      "cell_type": "code",
      "metadata": {
        "colab": {
          "base_uri": "https://localhost:8080/"
        },
        "id": "9x0SRXLYE2HN",
        "outputId": "28f27234-e895-4686-f1f4-b54fde081e8d"
      },
      "source": [
        "print('ROCAUC score:',roc_auc_score(y_test, y_predict_sm_XGB))"
      ],
      "execution_count": null,
      "outputs": [
        {
          "output_type": "stream",
          "text": [
            "ROCAUC score: 0.9845876125805187\n"
          ],
          "name": "stdout"
        }
      ]
    },
    {
      "cell_type": "markdown",
      "metadata": {
        "id": "-heOvqZHEDxr"
      },
      "source": [
        "## Algoritmo - SVM <a name=\"svm\"></a>"
      ]
    },
    {
      "cell_type": "code",
      "metadata": {
        "colab": {
          "base_uri": "https://localhost:8080/"
        },
        "id": "bRqPCjHcELop",
        "outputId": "bce07715-8896-4abf-9cfa-e77af04eda26"
      },
      "source": [
        "from sklearn import svm\n",
        "clf_SVM = svm.SVC(kernel='rbf')\n",
        "clf_SVM.fit(X_train, y_train)"
      ],
      "execution_count": null,
      "outputs": [
        {
          "output_type": "execute_result",
          "data": {
            "text/plain": [
              "SVC(C=1.0, break_ties=False, cache_size=200, class_weight=None, coef0=0.0,\n",
              "    decision_function_shape='ovr', degree=3, gamma='scale', kernel='rbf',\n",
              "    max_iter=-1, probability=False, random_state=None, shrinking=True,\n",
              "    tol=0.001, verbose=False)"
            ]
          },
          "metadata": {
            "tags": []
          },
          "execution_count": 78
        }
      ]
    },
    {
      "cell_type": "code",
      "metadata": {
        "id": "bDmTjJ3YEcLL"
      },
      "source": [
        "y_predict_SVM = clf_SVM.predict(X_test)"
      ],
      "execution_count": null,
      "outputs": []
    },
    {
      "cell_type": "markdown",
      "metadata": {
        "id": "FuVOlcpaFS4O"
      },
      "source": [
        "## Avaliando o modelo - SVM"
      ]
    },
    {
      "cell_type": "code",
      "metadata": {
        "colab": {
          "base_uri": "https://localhost:8080/",
          "height": 512
        },
        "id": "mKjCT_-gEzGb",
        "outputId": "9b68f129-d74e-45f6-86a6-36c3562891ef"
      },
      "source": [
        "cnf_matrix = confusion_matrix(y_test, y_predict_SVM, labels=[1,0])\n",
        "np.set_printoptions(precision=2)\n",
        "\n",
        "print (classification_report(y_test, y_predict_SVM, digits=5))\n",
        "\n",
        "# Plot non-normalized confusion matrix\n",
        "plt.figure()\n",
        "plot_confusion_matrix(cnf_matrix, classes=['Fraud','Not'],normalize= False,  title='Confusion matrix')"
      ],
      "execution_count": null,
      "outputs": [
        {
          "output_type": "stream",
          "text": [
            "              precision    recall  f1-score   support\n",
            "\n",
            "           0    0.99449   0.99804   0.99626     56651\n",
            "           1    0.99803   0.99447   0.99625     56651\n",
            "\n",
            "    accuracy                        0.99626    113302\n",
            "   macro avg    0.99626   0.99626   0.99626    113302\n",
            "weighted avg    0.99626   0.99626   0.99626    113302\n",
            "\n",
            "Confusion matrix, without normalization\n",
            "[[56338   313]\n",
            " [  111 56540]]\n"
          ],
          "name": "stdout"
        },
        {
          "output_type": "display_data",
          "data": {
            "image/png": "[encoded data removed]",
            "text/plain": [
              "<Figure size 432x288 with 2 Axes>"
            ]
          },
          "metadata": {
            "tags": []
          }
        }
      ]
    },
    {
      "cell_type": "code",
      "metadata": {
        "colab": {
          "base_uri": "https://localhost:8080/",
          "height": 278
        },
        "id": "MaV-D6i4ERqf",
        "outputId": "18406b4f-9118-4eaa-ba0d-392c60dbfdf0"
      },
      "source": [
        "plot_roc_curve(clf_SVM, X_test, y_test)\n",
        "plt.show()"
      ],
      "execution_count": null,
      "outputs": [
        {
          "output_type": "display_data",
          "data": {
            "image/png": "[encoded data removed]",
            "text/plain": [
              "<Figure size 432x288 with 1 Axes>"
            ]
          },
          "metadata": {
            "tags": []
          }
        }
      ]
    },
    {
      "cell_type": "code",
      "metadata": {
        "colab": {
          "base_uri": "https://localhost:8080/"
        },
        "id": "MxQxbL2jETNv",
        "outputId": "cd2b9b1f-454b-44e8-8545-03b17cd6d7ad"
      },
      "source": [
        "print('ROCAUC score:',roc_auc_score(y_test, y_predict_SVM))"
      ],
      "execution_count": null,
      "outputs": [
        {
          "output_type": "stream",
          "text": [
            "ROCAUC score: 0.9955979962820086\n"
          ],
          "name": "stdout"
        }
      ]
    },
    {
      "cell_type": "markdown",
      "metadata": {
        "id": "whaMWENqLZAJ"
      },
      "source": [
        "## Algoritmo - Árvore de Decisão <a name=\"tree\"></a>"
      ]
    },
    {
      "cell_type": "code",
      "metadata": {
        "id": "uLgwIOJULf6c"
      },
      "source": [
        "dTree = DecisionTreeClassifier(criterion=\"entropy\", max_depth = 300)"
      ],
      "execution_count": null,
      "outputs": []
    },
    {
      "cell_type": "code",
      "metadata": {
        "id": "y8n4HiImLilP"
      },
      "source": [
        "dTree = dTree.fit(X_train, y_train)"
      ],
      "execution_count": null,
      "outputs": []
    },
    {
      "cell_type": "code",
      "metadata": {
        "id": "GeVbMmhbLloY"
      },
      "source": [
        "y_predict_Tree = dTree.predict(X_test)"
      ],
      "execution_count": null,
      "outputs": []
    },
    {
      "cell_type": "markdown",
      "metadata": {
        "id": "PJ0j7SKOFrmM"
      },
      "source": [
        "## Avaliando o modelo - Árvore de Decisão"
      ]
    },
    {
      "cell_type": "code",
      "metadata": {
        "colab": {
          "base_uri": "https://localhost:8080/",
          "height": 505
        },
        "id": "MGrhhP-FNo30",
        "outputId": "01f872ab-f3f4-4a3d-c257-8baa50567a50"
      },
      "source": [
        "cnf_matrix = confusion_matrix(y_test, y_predict_Tree, labels=[1,0])\n",
        "np.set_printoptions(precision=2)\n",
        "\n",
        "print (classification_report(y_test, y_predict_Tree, digits=5))\n",
        "\n",
        "# Plot non-normalized confusion matrix\n",
        "plt.figure()\n",
        "plot_confusion_matrix(cnf_matrix, classes=['Fraud','Not'],normalize= False,  title='Confusion matrix')"
      ],
      "execution_count": null,
      "outputs": [
        {
          "output_type": "stream",
          "text": [
            "              precision    recall  f1-score   support\n",
            "\n",
            "           0    0.99915   0.99839   0.99877     56651\n",
            "           1    0.99839   0.99915   0.99877     56651\n",
            "\n",
            "    accuracy                        0.99877    113302\n",
            "   macro avg    0.99877   0.99877   0.99877    113302\n",
            "weighted avg    0.99877   0.99877   0.99877    113302\n",
            "\n",
            "Confusion matrix, without normalization\n",
            "[[56603    48]\n",
            " [   91 56560]]\n"
          ],
          "name": "stdout"
        },
        {
          "output_type": "display_data",
          "data": {
            "image/png": "[encoded data removed]",
            "text/plain": [
              "<Figure size 432x288 with 2 Axes>"
            ]
          },
          "metadata": {
            "tags": [],
            "needs_background": "light"
          }
        }
      ]
    },
    {
      "cell_type": "code",
      "metadata": {
        "colab": {
          "base_uri": "https://localhost:8080/",
          "height": 278
        },
        "id": "WwwZJ-g_F3im",
        "outputId": "b351cc71-4a0c-4390-b916-983a446cb92c"
      },
      "source": [
        "plot_roc_curve(dTree, X_test, y_test)\n",
        "plt.show()"
      ],
      "execution_count": null,
      "outputs": [
        {
          "output_type": "display_data",
          "data": {
            "image/png": "[encoded data removed]",
            "text/plain": [
              "<Figure size 432x288 with 1 Axes>"
            ]
          },
          "metadata": {
            "tags": []
          }
        }
      ]
    },
    {
      "cell_type": "code",
      "metadata": {
        "colab": {
          "base_uri": "https://localhost:8080/"
        },
        "id": "64UjwyonF3W3",
        "outputId": "49eb75d5-e7cc-488b-fe59-31cf63ea301b"
      },
      "source": [
        "roc_auc_score(y_test, dTree.predict_proba(X_test)[:, 1])"
      ],
      "execution_count": null,
      "outputs": [
        {
          "output_type": "execute_result",
          "data": {
            "text/plain": [
              "0.998830543505752"
            ]
          },
          "metadata": {
            "tags": []
          },
          "execution_count": 70
        }
      ]
    },
    {
      "cell_type": "code",
      "metadata": {
        "colab": {
          "base_uri": "https://localhost:8080/"
        },
        "id": "DluYw-IBF23w",
        "outputId": "988368c2-5fbd-4cc9-93ca-a34983550b88"
      },
      "source": [
        "print('ROCAUC score:',roc_auc_score(y_test, y_predict_Tree))"
      ],
      "execution_count": null,
      "outputs": [
        {
          "output_type": "stream",
          "text": [
            "ROCAUC score: 0.998830543505752\n"
          ],
          "name": "stdout"
        }
      ]
    },
    {
      "cell_type": "markdown",
      "metadata": {
        "id": "eCDJRVL3Owbr"
      },
      "source": [
        "## Algoritmo - Regressão Logística <a name=\"rl\"></a>"
      ]
    },
    {
      "cell_type": "code",
      "metadata": {
        "colab": {
          "base_uri": "https://localhost:8080/"
        },
        "id": "0GUN8RaML50A",
        "outputId": "c6422d26-e557-4018-a679-15302e285ddb"
      },
      "source": [
        "from sklearn.linear_model import LogisticRegression\n",
        "from sklearn.metrics import confusion_matrix\n",
        "LR = LogisticRegression(C=0.01, solver='liblinear').fit(X_train, y_train)\n",
        "LR"
      ],
      "execution_count": null,
      "outputs": [
        {
          "output_type": "execute_result",
          "data": {
            "text/plain": [
              "LogisticRegression(C=0.01, class_weight=None, dual=False, fit_intercept=True,\n",
              "                   intercept_scaling=1, l1_ratio=None, max_iter=100,\n",
              "                   multi_class='auto', n_jobs=None, penalty='l2',\n",
              "                   random_state=None, solver='liblinear', tol=0.0001, verbose=0,\n",
              "                   warm_start=False)"
            ]
          },
          "metadata": {
            "tags": []
          },
          "execution_count": 86
        }
      ]
    },
    {
      "cell_type": "code",
      "metadata": {
        "id": "Gzp6bjOXOyAC"
      },
      "source": [
        "y_predict_LR = LR.predict(X_test)"
      ],
      "execution_count": null,
      "outputs": []
    },
    {
      "cell_type": "markdown",
      "metadata": {
        "id": "KWVqsndvGmB0"
      },
      "source": [
        "## Avaliando o modelo - Regressão Logística"
      ]
    },
    {
      "cell_type": "code",
      "metadata": {
        "colab": {
          "base_uri": "https://localhost:8080/",
          "height": 512
        },
        "id": "2OVSI7jCPLlf",
        "outputId": "aba43736-292d-4b84-f80a-a364ecc3f8ec"
      },
      "source": [
        "cnf_matrix = confusion_matrix(y_test, y_predict_LR, labels=[1,0])\n",
        "np.set_printoptions(precision=2)\n",
        "\n",
        "print (classification_report(y_test, y_predict_LR, digits=5))\n",
        "\n",
        "# Plot non-normalized confusion matrix\n",
        "plt.figure()\n",
        "plot_confusion_matrix(cnf_matrix, classes=['Fraud','Not'],normalize= False,  title='Confusion matrix')"
      ],
      "execution_count": null,
      "outputs": [
        {
          "output_type": "stream",
          "text": [
            "              precision    recall  f1-score   support\n",
            "\n",
            "           0    0.95641   0.99064   0.97322     56651\n",
            "           1    0.99030   0.95485   0.97225     56651\n",
            "\n",
            "    accuracy                        0.97275    113302\n",
            "   macro avg    0.97335   0.97275   0.97274    113302\n",
            "weighted avg    0.97335   0.97275   0.97274    113302\n",
            "\n",
            "Confusion matrix, without normalization\n",
            "[[54093  2558]\n",
            " [  530 56121]]\n"
          ],
          "name": "stdout"
        },
        {
          "output_type": "display_data",
          "data": {
            "image/png": "[encoded data removed]",
            "text/plain": [
              "<Figure size 432x288 with 2 Axes>"
            ]
          },
          "metadata": {
            "tags": []
          }
        }
      ]
    },
    {
      "cell_type": "code",
      "metadata": {
        "colab": {
          "base_uri": "https://localhost:8080/",
          "height": 278
        },
        "id": "g4LowcYlG78v",
        "outputId": "d7bcbfcf-ba7e-408c-bc9c-c4f38dd4af4e"
      },
      "source": [
        "plot_roc_curve(LR, X_test, y_test)\n",
        "plt.show()"
      ],
      "execution_count": null,
      "outputs": [
        {
          "output_type": "display_data",
          "data": {
            "image/png": "[encoded data removed]",
            "text/plain": [
              "<Figure size 432x288 with 1 Axes>"
            ]
          },
          "metadata": {
            "tags": []
          }
        }
      ]
    },
    {
      "cell_type": "code",
      "metadata": {
        "colab": {
          "base_uri": "https://localhost:8080/"
        },
        "id": "0MC22G_-HBCR",
        "outputId": "b83baeda-c3db-4fe7-8e90-ce9101d82187"
      },
      "source": [
        "roc_auc_score(y_test, LR.predict_proba(X_test)[:, 1])"
      ],
      "execution_count": null,
      "outputs": [
        {
          "output_type": "execute_result",
          "data": {
            "text/plain": [
              "0.9909361860485913"
            ]
          },
          "metadata": {
            "tags": []
          },
          "execution_count": 79
        }
      ]
    },
    {
      "cell_type": "code",
      "metadata": {
        "colab": {
          "base_uri": "https://localhost:8080/"
        },
        "id": "Y_XQkHE8HEzc",
        "outputId": "76e1cba2-62a9-48e3-ce28-81c111ee78e2"
      },
      "source": [
        "print('ROCAUC score:',roc_auc_score(y_test, y_predict_LR))"
      ],
      "execution_count": null,
      "outputs": [
        {
          "output_type": "stream",
          "text": [
            "ROCAUC score: 0.9507620997286144\n"
          ],
          "name": "stdout"
        }
      ]
    },
    {
      "cell_type": "code",
      "metadata": {
        "colab": {
          "base_uri": "https://localhost:8080/"
        },
        "id": "Z6TlkWKpQJ1p",
        "outputId": "5c543aa4-843d-4f05-acf4-bdc05cf9ad67"
      },
      "source": [
        "from sklearn.metrics import jaccard_score\n",
        "jaccard_score(y_test, y_predict_LR,pos_label=0)"
      ],
      "execution_count": null,
      "outputs": [
        {
          "output_type": "execute_result",
          "data": {
            "text/plain": [
              "0.9085394593929955"
            ]
          },
          "metadata": {
            "tags": []
          },
          "execution_count": 81
        }
      ]
    },
    {
      "cell_type": "markdown",
      "metadata": {
        "id": "9_W66h7FlEw2"
      },
      "source": [
        "## Algoritmo - Análise Discriminante Quadrática <a name=\"quadrado\"></a>"
      ]
    },
    {
      "cell_type": "code",
      "metadata": {
        "id": "9odTYPxxAuhN"
      },
      "source": [
        "from sklearn.discriminant_analysis import QuadraticDiscriminantAnalysis\n"
      ],
      "execution_count": null,
      "outputs": []
    },
    {
      "cell_type": "code",
      "metadata": {
        "colab": {
          "base_uri": "https://localhost:8080/"
        },
        "id": "-Qzqce01Auee",
        "outputId": "17dd1a04-3d02-4749-f58b-db09df4f40ca"
      },
      "source": [
        "clf = QuadraticDiscriminantAnalysis()\n",
        "clf.fit(X_train, y_train)\n"
      ],
      "execution_count": null,
      "outputs": [
        {
          "output_type": "execute_result",
          "data": {
            "text/plain": [
              "QuadraticDiscriminantAnalysis(priors=None, reg_param=0.0,\n",
              "                              store_covariance=False, tol=0.0001)"
            ]
          },
          "metadata": {
            "tags": []
          },
          "execution_count": 92
        }
      ]
    },
    {
      "cell_type": "code",
      "metadata": {
        "id": "zqNKN_omAubZ"
      },
      "source": [
        "y_predict_Q = clf.predict(X_test)\n"
      ],
      "execution_count": null,
      "outputs": []
    },
    {
      "cell_type": "code",
      "metadata": {
        "colab": {
          "base_uri": "https://localhost:8080/",
          "height": 512
        },
        "id": "NIdj_TVClsF9",
        "outputId": "a45186e0-ea9a-47ed-b4af-bf787f779465"
      },
      "source": [
        "cnf_matrix = confusion_matrix(y_test, y_predict_Q, labels=[1, 0])\n",
        "#np.set_printoptions(precision=0.001)\n",
        "\n",
        "print (classification_report(y_test, y_predict_Q, digits=5))\n",
        "\n",
        "# Plot non-normalized confusion matrix\n",
        "plt.figure()\n",
        "plot_confusion_matrix(cnf_matrix, classes=['Fraud','Not'],normalize= False,  title='Confusion matrix')"
      ],
      "execution_count": null,
      "outputs": [
        {
          "output_type": "stream",
          "text": [
            "              precision    recall  f1-score   support\n",
            "\n",
            "           0    0.95363   0.97260   0.96303     56651\n",
            "           1    0.97205   0.95271   0.96228     56651\n",
            "\n",
            "    accuracy                        0.96266    113302\n",
            "   macro avg    0.96284   0.96266   0.96265    113302\n",
            "weighted avg    0.96284   0.96266   0.96265    113302\n",
            "\n",
            "Confusion matrix, without normalization\n",
            "[[53972  2679]\n",
            " [ 1552 55099]]\n"
          ],
          "name": "stdout"
        },
        {
          "output_type": "display_data",
          "data": {
            "image/png": "[encoded data removed]",
            "text/plain": [
              "<Figure size 432x288 with 2 Axes>"
            ]
          },
          "metadata": {
            "tags": []
          }
        }
      ]
    }
  ]
}